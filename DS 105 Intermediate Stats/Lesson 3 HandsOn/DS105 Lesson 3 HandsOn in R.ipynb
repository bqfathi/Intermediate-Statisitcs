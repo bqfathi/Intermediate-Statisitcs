{
 "cells": [
  {
   "cell_type": "code",
   "execution_count": 2,
   "id": "cf89a354",
   "metadata": {
    "vscode": {
     "languageId": "r"
    }
   },
   "outputs": [],
   "source": [
    "# Load Libraries\n",
    "\n",
    "library('gmodels')\n",
    "library('dplyr')\n",
    "library('tidyr')"
   ]
  },
  {
   "cell_type": "code",
   "execution_count": 5,
   "id": "6671ff95",
   "metadata": {
    "vscode": {
     "languageId": "r"
    }
   },
   "outputs": [],
   "source": [
    "# Load data\n",
    "\n",
    "loans = read.csv('/Users/britfathi/Downloads/loans.csv')"
   ]
  },
  {
   "cell_type": "markdown",
   "id": "f1aea152",
   "metadata": {},
   "source": [
    "# Part 1: Does the term of the loan influence loan status? If so, how? Running an independent Chi-Squared"
   ]
  },
  {
   "cell_type": "code",
   "execution_count": 7,
   "id": "615c26d1",
   "metadata": {
    "scrolled": true,
    "vscode": {
     "languageId": "r"
    }
   },
   "outputs": [
    {
     "name": "stdout",
     "output_type": "stream",
     "text": [
      "\n",
      "   Cell Contents\n",
      "|-------------------------|\n",
      "|                   Count |\n",
      "|         Expected Values |\n",
      "| Chi-square contribution |\n",
      "|             Row Percent |\n",
      "|          Column Percent |\n",
      "|           Total Percent |\n",
      "|            Std Residual |\n",
      "|-------------------------|\n",
      "\n",
      "Total Observations in Table:  21957 \n",
      "\n",
      "                  | loans$term \n",
      "loans$loan_status |  36 months  |  60 months  |  Row Total | \n",
      "------------------|------------|------------|------------|\n",
      "      Charged Off |      2029  |      1253  |      3282  | \n",
      "                  |  2540.011  |   741.989  |            | \n",
      "                  |   102.808  |   351.936  |            | \n",
      "                  |    61.822% |    38.178% |    14.947% | \n",
      "                  |    11.940% |    25.242% |            | \n",
      "                  |     9.241% |     5.707% |            | \n",
      "                  |   -10.139  |    18.760  |            | \n",
      "------------------|------------|------------|------------|\n",
      "          Current |         0  |       502  |       502  | \n",
      "                  |   388.509  |   113.491  |            | \n",
      "                  |   388.509  |  1329.961  |            | \n",
      "                  |     0.000% |   100.000% |     2.286% | \n",
      "                  |     0.000% |    10.113% |            | \n",
      "                  |     0.000% |     2.286% |            | \n",
      "                  |   -19.711  |    36.469  |            | \n",
      "------------------|------------|------------|------------|\n",
      "       Fully Paid |     14964  |      3209  |     18173  | \n",
      "                  | 14064.480  |  4108.520  |            | \n",
      "                  |    57.530  |   196.941  |            | \n",
      "                  |    82.342% |    17.658% |    82.766% | \n",
      "                  |    88.060% |    64.645% |            | \n",
      "                  |    68.151% |    14.615% |            | \n",
      "                  |     7.585  |   -14.034  |            | \n",
      "------------------|------------|------------|------------|\n",
      "     Column Total |     16993  |      4964  |     21957  | \n",
      "                  |    77.392% |    22.608% |            | \n",
      "------------------|------------|------------|------------|\n",
      "\n",
      " \n",
      "Statistics for All Table Factors\n",
      "\n",
      "\n",
      "Pearson's Chi-squared test \n",
      "------------------------------------------------------------\n",
      "Chi^2 =  2427.685     d.f. =  2     p =  0 \n",
      "\n",
      "\n",
      " \n",
      "       Minimum expected frequency: 113.4913 \n",
      "\n"
     ]
    }
   ],
   "source": [
    "CrossTable(loans$loan_status, loans$term, chisq=TRUE, expected = TRUE, sresid = TRUE, format = \"SPSS\")"
   ]
  },
  {
   "cell_type": "markdown",
   "id": "5271fc58",
   "metadata": {},
   "source": [
    "#### p value and expected values all are within the requirements to proceed. All std resid's are greater than abs(2) , meaning they are all significant. For charged off, the 36 month term is greatly below the mean, while the 60 month is greatly above the mean. For Current, 36 month is greatly below the mean, while 60 month is greatly above the mean. For Fully Paid, 36 month is greatly above the mean, while 60 month is greatly below the mean."
   ]
  },
  {
   "cell_type": "markdown",
   "id": "2a3ce4c7",
   "metadata": {},
   "source": [
    "### 36 month term loans look more likely to be paid back, while 60 month is more likely to be charged off. "
   ]
  },
  {
   "cell_type": "markdown",
   "id": "46fea6a8",
   "metadata": {},
   "source": [
    "# Part 2: How has the ability to own a home changed after 2009. McNemar "
   ]
  },
  {
   "cell_type": "markdown",
   "id": "b03d80e0",
   "metadata": {},
   "source": [
    "#### McNemar since we have two points in time looking for change between them. Data wrangling needed for the time. "
   ]
  },
  {
   "cell_type": "code",
   "execution_count": 8,
   "id": "7839c45b",
   "metadata": {
    "vscode": {
     "languageId": "r"
    }
   },
   "outputs": [],
   "source": [
    "loans$DateR <- as.Date(paste(loans$Date), \"%m/%d/%Y\")\n",
    "\n",
    "loans1 <- separate(loans, DateR, c(\"Year\", \"Month\", \"Day\"), sep=\"-\")\n",
    "\n",
    "loans1$YearR <- NA\n",
    "loans1$YearR[loans1$Year <= 2009] <- 0\n",
    "loans1$YearR[loans1$Year > 2010] <- 1\n"
   ]
  },
  {
   "cell_type": "code",
   "execution_count": 9,
   "id": "20a0a1d3",
   "metadata": {
    "vscode": {
     "languageId": "r"
    }
   },
   "outputs": [
    {
     "name": "stdout",
     "output_type": "stream",
     "text": [
      "\n",
      "   Cell Contents\n",
      "|-------------------------|\n",
      "|                   Count |\n",
      "|         Expected Values |\n",
      "| Chi-square contribution |\n",
      "|             Row Percent |\n",
      "|          Column Percent |\n",
      "|           Total Percent |\n",
      "|            Std Residual |\n",
      "|-------------------------|\n",
      "\n",
      "Total Observations in Table:  15498 \n",
      "\n",
      "             | loans1$home_ownership \n",
      "loans1$YearR |      OWN  |     RENT  | Row Total | \n",
      "-------------|-----------|-----------|-----------|\n",
      "           0 |      550  |     3408  |     3958  | \n",
      "             |  551.893  | 3406.107  |           | \n",
      "             |    0.006  |    0.001  |           | \n",
      "             |   13.896% |   86.104% |   25.539% | \n",
      "             |   25.451% |   25.553% |           | \n",
      "             |    3.549% |   21.990% |           | \n",
      "             |   -0.081  |    0.032  |           | \n",
      "-------------|-----------|-----------|-----------|\n",
      "           1 |     1611  |     9929  |    11540  | \n",
      "             | 1609.107  | 9930.893  |           | \n",
      "             |    0.002  |    0.000  |           | \n",
      "             |   13.960% |   86.040% |   74.461% | \n",
      "             |   74.549% |   74.447% |           | \n",
      "             |   10.395% |   64.066% |           | \n",
      "             |    0.047  |   -0.019  |           | \n",
      "-------------|-----------|-----------|-----------|\n",
      "Column Total |     2161  |    13337  |    15498  | \n",
      "             |   13.944% |   86.056% |           | \n",
      "-------------|-----------|-----------|-----------|\n",
      "\n",
      " \n",
      "Statistics for All Table Factors\n",
      "\n",
      "\n",
      "Pearson's Chi-squared test \n",
      "------------------------------------------------------------\n",
      "Chi^2 =  0.0101331     d.f. =  1     p =  0.9198178 \n",
      "\n",
      "Pearson's Chi-squared test with Yates' continuity correction \n",
      "------------------------------------------------------------\n",
      "Chi^2 =  0.005487142     d.f. =  1     p =  0.9409505 \n",
      "\n",
      " \n",
      "McNemar's Chi-squared test \n",
      "------------------------------------------------------------\n",
      "Chi^2 =  643.3969     d.f. =  1     p =  6.097731e-142 \n",
      "\n",
      "McNemar's Chi-squared test with continuity correction \n",
      "------------------------------------------------------------\n",
      "Chi^2 =  642.681     d.f. =  1     p =  8.726912e-142 \n",
      "\n",
      " \n",
      "Fisher's Exact Test for Count Data\n",
      "------------------------------------------------------------\n",
      "Sample estimate odds ratio:  0.9946567 \n",
      "\n",
      "Alternative hypothesis: true odds ratio is not equal to 1\n",
      "p =  0.9364324 \n",
      "95% confidence interval:  0.8944115 1.105055 \n",
      "\n",
      "Alternative hypothesis: true odds ratio is less than 1\n",
      "p =  0.4717142 \n",
      "95% confidence interval:  0 1.086861 \n",
      "\n",
      "Alternative hypothesis: true odds ratio is greater than 1\n",
      "p =  0.5494091 \n",
      "95% confidence interval:  0.9097115 Inf \n",
      "\n",
      "\n",
      " \n",
      "       Minimum expected frequency: 551.893 \n",
      "\n"
     ]
    }
   ],
   "source": [
    "CrossTable(loans1$YearR, loans1$home_ownership, chisq=TRUE, \n",
    "           mcnemar=TRUE, fisher = TRUE, expected = TRUE, sresid = TRUE, format = \"SPSS\")"
   ]
  },
  {
   "cell_type": "markdown",
   "id": "c58b103d",
   "metadata": {},
   "source": [
    "#### With the p-value for McNemar's Chi-squared test, the p value is less than .05, so the test is significant. According to the row and column percents, the percent renting to owning remained roughly the same whether you look before or after 2009 with about 14% owning and about 86% renting. \n",
    "### Renting or owning before and after 2009 is similar. "
   ]
  },
  {
   "cell_type": "markdown",
   "id": "d4353385",
   "metadata": {},
   "source": [
    "# Part 3: Based on the news story, does it seem likely that the data for this hands on came from the larger population of America?  (will be doing a Goodness of Fit Chi-Square )"
   ]
  },
  {
   "cell_type": "code",
   "execution_count": 11,
   "id": "b2790dfd",
   "metadata": {
    "vscode": {
     "languageId": "r"
    }
   },
   "outputs": [
    {
     "data": {
      "text/html": [
       "<table class=\"dataframe\">\n",
       "<caption>A tibble: 3 × 2</caption>\n",
       "<thead>\n",
       "\t<tr><th scope=col>loan_status</th><th scope=col>count</th></tr>\n",
       "\t<tr><th scope=col>&lt;chr&gt;</th><th scope=col>&lt;int&gt;</th></tr>\n",
       "</thead>\n",
       "<tbody>\n",
       "\t<tr><td>Charged Off</td><td> 3282</td></tr>\n",
       "\t<tr><td>Current    </td><td>  502</td></tr>\n",
       "\t<tr><td>Fully Paid </td><td>18173</td></tr>\n",
       "</tbody>\n",
       "</table>\n"
      ],
      "text/latex": [
       "A tibble: 3 × 2\n",
       "\\begin{tabular}{ll}\n",
       " loan\\_status & count\\\\\n",
       " <chr> & <int>\\\\\n",
       "\\hline\n",
       "\t Charged Off &  3282\\\\\n",
       "\t Current     &   502\\\\\n",
       "\t Fully Paid  & 18173\\\\\n",
       "\\end{tabular}\n"
      ],
      "text/markdown": [
       "\n",
       "A tibble: 3 × 2\n",
       "\n",
       "| loan_status &lt;chr&gt; | count &lt;int&gt; |\n",
       "|---|---|\n",
       "| Charged Off |  3282 |\n",
       "| Current     |   502 |\n",
       "| Fully Paid  | 18173 |\n",
       "\n"
      ],
      "text/plain": [
       "  loan_status count\n",
       "1 Charged Off  3282\n",
       "2 Current       502\n",
       "3 Fully Paid  18173"
      ]
     },
     "metadata": {},
     "output_type": "display_data"
    }
   ],
   "source": [
    "loans %>% group_by(loan_status) %>% summarize(count=n())"
   ]
  },
  {
   "cell_type": "code",
   "execution_count": 12,
   "id": "4bafceef",
   "metadata": {
    "vscode": {
     "languageId": "r"
    }
   },
   "outputs": [],
   "source": [
    "observed = c(3382, 502, 18173)"
   ]
  },
  {
   "cell_type": "code",
   "execution_count": 13,
   "id": "33ceb1cc",
   "metadata": {
    "vscode": {
     "languageId": "r"
    }
   },
   "outputs": [],
   "source": [
    "expected = c(0.1, 0.75, 0.15)"
   ]
  },
  {
   "cell_type": "code",
   "execution_count": 14,
   "id": "9e6c5dcf",
   "metadata": {
    "vscode": {
     "languageId": "r"
    }
   },
   "outputs": [
    {
     "data": {
      "text/plain": [
       "\n",
       "\tChi-squared test for given probabilities\n",
       "\n",
       "data:  observed\n",
       "X-squared = 82963, df = 2, p-value < 2.2e-16\n"
      ]
     },
     "metadata": {},
     "output_type": "display_data"
    }
   ],
   "source": [
    "chisq.test(x = observed, p = expected)"
   ]
  },
  {
   "cell_type": "markdown",
   "id": "8496f8d1",
   "metadata": {},
   "source": [
    "## The p-value shows that there is significant difference between our sample and the news story population. "
   ]
  },
  {
   "cell_type": "code",
   "execution_count": null,
   "id": "7985ad82",
   "metadata": {
    "vscode": {
     "languageId": "r"
    }
   },
   "outputs": [],
   "source": []
  },
  {
   "cell_type": "code",
   "execution_count": null,
   "id": "b2897ef0",
   "metadata": {
    "vscode": {
     "languageId": "r"
    }
   },
   "outputs": [],
   "source": []
  }
 ],
 "metadata": {
  "kernelspec": {
   "display_name": "R",
   "language": "R",
   "name": "ir"
  },
  "language_info": {
   "codemirror_mode": "r",
   "file_extension": ".r",
   "mimetype": "text/x-r-source",
   "name": "R",
   "pygments_lexer": "r",
   "version": "4.2.2"
  }
 },
 "nbformat": 4,
 "nbformat_minor": 5
}
