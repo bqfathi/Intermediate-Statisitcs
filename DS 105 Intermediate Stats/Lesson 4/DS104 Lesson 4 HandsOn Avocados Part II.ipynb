{
 "cells": [
  {
   "cell_type": "markdown",
   "id": "2492f851",
   "metadata": {},
   "source": [
    "# Does the total volume of avocados sold differ between Indianapolis, Orlando, and PhoenixTucson?"
   ]
  },
  {
   "cell_type": "markdown",
   "id": "ee16323e",
   "metadata": {},
   "source": [
    "## Load Packages"
   ]
  },
  {
   "cell_type": "code",
   "execution_count": 1,
   "id": "9a0aa92a",
   "metadata": {},
   "outputs": [],
   "source": [
    "import pandas as pd\n",
    "import numpy as np\n",
    "import scipy\n",
    "import seaborn as sns\n",
    "from scipy import stats\n",
    "from statsmodels.stats.multicomp import pairwise_tukeyhsd\n",
    "from statsmodels.stats.multicomp import MultiComparison"
   ]
  },
  {
   "cell_type": "markdown",
   "id": "a6a11b64",
   "metadata": {},
   "source": [
    "## Load Data"
   ]
  },
  {
   "cell_type": "code",
   "execution_count": 2,
   "id": "80b2897c",
   "metadata": {},
   "outputs": [],
   "source": [
    "avocados = pd.read_csv('/Users/britfathi/Downloads/avocados.csv')"
   ]
  },
  {
   "cell_type": "code",
   "execution_count": 3,
   "id": "9bbf4691",
   "metadata": {},
   "outputs": [
    {
     "data": {
      "text/html": [
       "<div>\n",
       "<style scoped>\n",
       "    .dataframe tbody tr th:only-of-type {\n",
       "        vertical-align: middle;\n",
       "    }\n",
       "\n",
       "    .dataframe tbody tr th {\n",
       "        vertical-align: top;\n",
       "    }\n",
       "\n",
       "    .dataframe thead th {\n",
       "        text-align: right;\n",
       "    }\n",
       "</style>\n",
       "<table border=\"1\" class=\"dataframe\">\n",
       "  <thead>\n",
       "    <tr style=\"text-align: right;\">\n",
       "      <th></th>\n",
       "      <th>Unnamed: 0</th>\n",
       "      <th>Date</th>\n",
       "      <th>AveragePrice</th>\n",
       "      <th>Total Volume</th>\n",
       "      <th>4046</th>\n",
       "      <th>4225</th>\n",
       "      <th>4770</th>\n",
       "      <th>Total Bags</th>\n",
       "      <th>Small Bags</th>\n",
       "      <th>Large Bags</th>\n",
       "      <th>XLarge Bags</th>\n",
       "      <th>type</th>\n",
       "      <th>year</th>\n",
       "      <th>region</th>\n",
       "    </tr>\n",
       "  </thead>\n",
       "  <tbody>\n",
       "    <tr>\n",
       "      <th>0</th>\n",
       "      <td>0</td>\n",
       "      <td>12/27/2015</td>\n",
       "      <td>1.33</td>\n",
       "      <td>64236.62</td>\n",
       "      <td>1036.74</td>\n",
       "      <td>54454.85</td>\n",
       "      <td>48.16</td>\n",
       "      <td>8696.87</td>\n",
       "      <td>8603.62</td>\n",
       "      <td>93.25</td>\n",
       "      <td>0.0</td>\n",
       "      <td>conventional</td>\n",
       "      <td>2015</td>\n",
       "      <td>Albany</td>\n",
       "    </tr>\n",
       "    <tr>\n",
       "      <th>1</th>\n",
       "      <td>1</td>\n",
       "      <td>12/20/2015</td>\n",
       "      <td>1.35</td>\n",
       "      <td>54876.98</td>\n",
       "      <td>674.28</td>\n",
       "      <td>44638.81</td>\n",
       "      <td>58.33</td>\n",
       "      <td>9505.56</td>\n",
       "      <td>9408.07</td>\n",
       "      <td>97.49</td>\n",
       "      <td>0.0</td>\n",
       "      <td>conventional</td>\n",
       "      <td>2015</td>\n",
       "      <td>Albany</td>\n",
       "    </tr>\n",
       "    <tr>\n",
       "      <th>2</th>\n",
       "      <td>2</td>\n",
       "      <td>12/13/2015</td>\n",
       "      <td>0.93</td>\n",
       "      <td>118220.22</td>\n",
       "      <td>794.70</td>\n",
       "      <td>109149.67</td>\n",
       "      <td>130.50</td>\n",
       "      <td>8145.35</td>\n",
       "      <td>8042.21</td>\n",
       "      <td>103.14</td>\n",
       "      <td>0.0</td>\n",
       "      <td>conventional</td>\n",
       "      <td>2015</td>\n",
       "      <td>Albany</td>\n",
       "    </tr>\n",
       "    <tr>\n",
       "      <th>3</th>\n",
       "      <td>3</td>\n",
       "      <td>12/6/2015</td>\n",
       "      <td>1.08</td>\n",
       "      <td>78992.15</td>\n",
       "      <td>1132.00</td>\n",
       "      <td>71976.41</td>\n",
       "      <td>72.58</td>\n",
       "      <td>5811.16</td>\n",
       "      <td>5677.40</td>\n",
       "      <td>133.76</td>\n",
       "      <td>0.0</td>\n",
       "      <td>conventional</td>\n",
       "      <td>2015</td>\n",
       "      <td>Albany</td>\n",
       "    </tr>\n",
       "    <tr>\n",
       "      <th>4</th>\n",
       "      <td>4</td>\n",
       "      <td>11/29/2015</td>\n",
       "      <td>1.28</td>\n",
       "      <td>51039.60</td>\n",
       "      <td>941.48</td>\n",
       "      <td>43838.39</td>\n",
       "      <td>75.78</td>\n",
       "      <td>6183.95</td>\n",
       "      <td>5986.26</td>\n",
       "      <td>197.69</td>\n",
       "      <td>0.0</td>\n",
       "      <td>conventional</td>\n",
       "      <td>2015</td>\n",
       "      <td>Albany</td>\n",
       "    </tr>\n",
       "  </tbody>\n",
       "</table>\n",
       "</div>"
      ],
      "text/plain": [
       "   Unnamed: 0        Date  AveragePrice  Total Volume     4046       4225  \\\n",
       "0           0  12/27/2015          1.33      64236.62  1036.74   54454.85   \n",
       "1           1  12/20/2015          1.35      54876.98   674.28   44638.81   \n",
       "2           2  12/13/2015          0.93     118220.22   794.70  109149.67   \n",
       "3           3   12/6/2015          1.08      78992.15  1132.00   71976.41   \n",
       "4           4  11/29/2015          1.28      51039.60   941.48   43838.39   \n",
       "\n",
       "     4770  Total Bags  Small Bags  Large Bags  XLarge Bags          type  \\\n",
       "0   48.16     8696.87     8603.62       93.25          0.0  conventional   \n",
       "1   58.33     9505.56     9408.07       97.49          0.0  conventional   \n",
       "2  130.50     8145.35     8042.21      103.14          0.0  conventional   \n",
       "3   72.58     5811.16     5677.40      133.76          0.0  conventional   \n",
       "4   75.78     6183.95     5986.26      197.69          0.0  conventional   \n",
       "\n",
       "   year  region  \n",
       "0  2015  Albany  \n",
       "1  2015  Albany  \n",
       "2  2015  Albany  \n",
       "3  2015  Albany  \n",
       "4  2015  Albany  "
      ]
     },
     "execution_count": 3,
     "metadata": {},
     "output_type": "execute_result"
    }
   ],
   "source": [
    "avocados.head()"
   ]
  },
  {
   "cell_type": "code",
   "execution_count": 24,
   "id": "632e005f",
   "metadata": {},
   "outputs": [],
   "source": [
    "#### Getting only the needed regions, and putting it in a new dataframe\n",
    "\n",
    "regions1 = ['Indianapolis', 'Orlando', 'PhoenixTucson']"
   ]
  },
  {
   "cell_type": "code",
   "execution_count": 25,
   "id": "dc632832",
   "metadata": {},
   "outputs": [],
   "source": [
    "data1 = avocados[\"region\"].isin(regions1)"
   ]
  },
  {
   "cell_type": "code",
   "execution_count": 26,
   "id": "800b04e8",
   "metadata": {},
   "outputs": [],
   "source": [
    "data2 = avocados[data1].copy()"
   ]
  },
  {
   "cell_type": "code",
   "execution_count": 27,
   "id": "c7a47a59",
   "metadata": {},
   "outputs": [
    {
     "data": {
      "text/html": [
       "<div>\n",
       "<style scoped>\n",
       "    .dataframe tbody tr th:only-of-type {\n",
       "        vertical-align: middle;\n",
       "    }\n",
       "\n",
       "    .dataframe tbody tr th {\n",
       "        vertical-align: top;\n",
       "    }\n",
       "\n",
       "    .dataframe thead th {\n",
       "        text-align: right;\n",
       "    }\n",
       "</style>\n",
       "<table border=\"1\" class=\"dataframe\">\n",
       "  <thead>\n",
       "    <tr style=\"text-align: right;\">\n",
       "      <th></th>\n",
       "      <th>Unnamed: 0</th>\n",
       "      <th>Date</th>\n",
       "      <th>AveragePrice</th>\n",
       "      <th>Total Volume</th>\n",
       "      <th>4046</th>\n",
       "      <th>4225</th>\n",
       "      <th>4770</th>\n",
       "      <th>Total Bags</th>\n",
       "      <th>Small Bags</th>\n",
       "      <th>Large Bags</th>\n",
       "      <th>XLarge Bags</th>\n",
       "      <th>type</th>\n",
       "      <th>year</th>\n",
       "      <th>region</th>\n",
       "    </tr>\n",
       "  </thead>\n",
       "  <tbody>\n",
       "    <tr>\n",
       "      <th>988</th>\n",
       "      <td>0</td>\n",
       "      <td>12/27/2015</td>\n",
       "      <td>1.04</td>\n",
       "      <td>123096.09</td>\n",
       "      <td>4647.28</td>\n",
       "      <td>69384.73</td>\n",
       "      <td>11206.40</td>\n",
       "      <td>37857.68</td>\n",
       "      <td>20644.64</td>\n",
       "      <td>11524.06</td>\n",
       "      <td>5688.98</td>\n",
       "      <td>conventional</td>\n",
       "      <td>2015</td>\n",
       "      <td>Indianapolis</td>\n",
       "    </tr>\n",
       "    <tr>\n",
       "      <th>989</th>\n",
       "      <td>1</td>\n",
       "      <td>12/20/2015</td>\n",
       "      <td>1.10</td>\n",
       "      <td>116353.68</td>\n",
       "      <td>3702.20</td>\n",
       "      <td>67983.94</td>\n",
       "      <td>9327.71</td>\n",
       "      <td>35339.83</td>\n",
       "      <td>18144.63</td>\n",
       "      <td>12133.67</td>\n",
       "      <td>5061.53</td>\n",
       "      <td>conventional</td>\n",
       "      <td>2015</td>\n",
       "      <td>Indianapolis</td>\n",
       "    </tr>\n",
       "    <tr>\n",
       "      <th>990</th>\n",
       "      <td>2</td>\n",
       "      <td>12/13/2015</td>\n",
       "      <td>1.03</td>\n",
       "      <td>125342.89</td>\n",
       "      <td>4904.51</td>\n",
       "      <td>69984.32</td>\n",
       "      <td>11398.44</td>\n",
       "      <td>39055.62</td>\n",
       "      <td>21259.82</td>\n",
       "      <td>15580.08</td>\n",
       "      <td>2215.72</td>\n",
       "      <td>conventional</td>\n",
       "      <td>2015</td>\n",
       "      <td>Indianapolis</td>\n",
       "    </tr>\n",
       "    <tr>\n",
       "      <th>991</th>\n",
       "      <td>3</td>\n",
       "      <td>12/6/2015</td>\n",
       "      <td>0.92</td>\n",
       "      <td>145740.44</td>\n",
       "      <td>4067.00</td>\n",
       "      <td>89452.99</td>\n",
       "      <td>13570.12</td>\n",
       "      <td>38650.33</td>\n",
       "      <td>19365.92</td>\n",
       "      <td>17733.68</td>\n",
       "      <td>1550.73</td>\n",
       "      <td>conventional</td>\n",
       "      <td>2015</td>\n",
       "      <td>Indianapolis</td>\n",
       "    </tr>\n",
       "    <tr>\n",
       "      <th>992</th>\n",
       "      <td>4</td>\n",
       "      <td>11/29/2015</td>\n",
       "      <td>1.08</td>\n",
       "      <td>108444.41</td>\n",
       "      <td>3079.44</td>\n",
       "      <td>65254.08</td>\n",
       "      <td>10854.59</td>\n",
       "      <td>29256.30</td>\n",
       "      <td>17455.74</td>\n",
       "      <td>9975.21</td>\n",
       "      <td>1825.35</td>\n",
       "      <td>conventional</td>\n",
       "      <td>2015</td>\n",
       "      <td>Indianapolis</td>\n",
       "    </tr>\n",
       "  </tbody>\n",
       "</table>\n",
       "</div>"
      ],
      "text/plain": [
       "     Unnamed: 0        Date  AveragePrice  Total Volume     4046      4225  \\\n",
       "988           0  12/27/2015          1.04     123096.09  4647.28  69384.73   \n",
       "989           1  12/20/2015          1.10     116353.68  3702.20  67983.94   \n",
       "990           2  12/13/2015          1.03     125342.89  4904.51  69984.32   \n",
       "991           3   12/6/2015          0.92     145740.44  4067.00  89452.99   \n",
       "992           4  11/29/2015          1.08     108444.41  3079.44  65254.08   \n",
       "\n",
       "         4770  Total Bags  Small Bags  Large Bags  XLarge Bags          type  \\\n",
       "988  11206.40    37857.68    20644.64    11524.06      5688.98  conventional   \n",
       "989   9327.71    35339.83    18144.63    12133.67      5061.53  conventional   \n",
       "990  11398.44    39055.62    21259.82    15580.08      2215.72  conventional   \n",
       "991  13570.12    38650.33    19365.92    17733.68      1550.73  conventional   \n",
       "992  10854.59    29256.30    17455.74     9975.21      1825.35  conventional   \n",
       "\n",
       "     year        region  \n",
       "988  2015  Indianapolis  \n",
       "989  2015  Indianapolis  \n",
       "990  2015  Indianapolis  \n",
       "991  2015  Indianapolis  \n",
       "992  2015  Indianapolis  "
      ]
     },
     "execution_count": 27,
     "metadata": {},
     "output_type": "execute_result"
    }
   ],
   "source": [
    "data2.head()"
   ]
  },
  {
   "cell_type": "code",
   "execution_count": 28,
   "id": "885d51a3",
   "metadata": {},
   "outputs": [
    {
     "data": {
      "text/plain": [
       "Indianapolis     338\n",
       "Orlando          338\n",
       "PhoenixTucson    338\n",
       "Name: region, dtype: int64"
      ]
     },
     "execution_count": 28,
     "metadata": {},
     "output_type": "execute_result"
    }
   ],
   "source": [
    "data2.region.value_counts()"
   ]
  },
  {
   "cell_type": "markdown",
   "id": "8288a84c",
   "metadata": {},
   "source": [
    "## Recode this categorical data"
   ]
  },
  {
   "cell_type": "code",
   "execution_count": 29,
   "id": "f296e0cc",
   "metadata": {},
   "outputs": [],
   "source": [
    "dict = {'Indianapolis' : 0, 'Orlando' : 1, 'PhoenixTucson': 2}"
   ]
  },
  {
   "cell_type": "code",
   "execution_count": 30,
   "id": "51f401a9",
   "metadata": {},
   "outputs": [],
   "source": [
    "data2['region'] = data2.region.replace(dict)"
   ]
  },
  {
   "cell_type": "code",
   "execution_count": 31,
   "id": "2691cc09",
   "metadata": {},
   "outputs": [
    {
     "data": {
      "text/html": [
       "<div>\n",
       "<style scoped>\n",
       "    .dataframe tbody tr th:only-of-type {\n",
       "        vertical-align: middle;\n",
       "    }\n",
       "\n",
       "    .dataframe tbody tr th {\n",
       "        vertical-align: top;\n",
       "    }\n",
       "\n",
       "    .dataframe thead th {\n",
       "        text-align: right;\n",
       "    }\n",
       "</style>\n",
       "<table border=\"1\" class=\"dataframe\">\n",
       "  <thead>\n",
       "    <tr style=\"text-align: right;\">\n",
       "      <th></th>\n",
       "      <th>Unnamed: 0</th>\n",
       "      <th>Date</th>\n",
       "      <th>AveragePrice</th>\n",
       "      <th>Total Volume</th>\n",
       "      <th>4046</th>\n",
       "      <th>4225</th>\n",
       "      <th>4770</th>\n",
       "      <th>Total Bags</th>\n",
       "      <th>Small Bags</th>\n",
       "      <th>Large Bags</th>\n",
       "      <th>XLarge Bags</th>\n",
       "      <th>type</th>\n",
       "      <th>year</th>\n",
       "      <th>region</th>\n",
       "    </tr>\n",
       "  </thead>\n",
       "  <tbody>\n",
       "    <tr>\n",
       "      <th>988</th>\n",
       "      <td>0</td>\n",
       "      <td>12/27/2015</td>\n",
       "      <td>1.04</td>\n",
       "      <td>123096.09</td>\n",
       "      <td>4647.28</td>\n",
       "      <td>69384.73</td>\n",
       "      <td>11206.40</td>\n",
       "      <td>37857.68</td>\n",
       "      <td>20644.64</td>\n",
       "      <td>11524.06</td>\n",
       "      <td>5688.98</td>\n",
       "      <td>conventional</td>\n",
       "      <td>2015</td>\n",
       "      <td>0</td>\n",
       "    </tr>\n",
       "    <tr>\n",
       "      <th>989</th>\n",
       "      <td>1</td>\n",
       "      <td>12/20/2015</td>\n",
       "      <td>1.10</td>\n",
       "      <td>116353.68</td>\n",
       "      <td>3702.20</td>\n",
       "      <td>67983.94</td>\n",
       "      <td>9327.71</td>\n",
       "      <td>35339.83</td>\n",
       "      <td>18144.63</td>\n",
       "      <td>12133.67</td>\n",
       "      <td>5061.53</td>\n",
       "      <td>conventional</td>\n",
       "      <td>2015</td>\n",
       "      <td>0</td>\n",
       "    </tr>\n",
       "    <tr>\n",
       "      <th>990</th>\n",
       "      <td>2</td>\n",
       "      <td>12/13/2015</td>\n",
       "      <td>1.03</td>\n",
       "      <td>125342.89</td>\n",
       "      <td>4904.51</td>\n",
       "      <td>69984.32</td>\n",
       "      <td>11398.44</td>\n",
       "      <td>39055.62</td>\n",
       "      <td>21259.82</td>\n",
       "      <td>15580.08</td>\n",
       "      <td>2215.72</td>\n",
       "      <td>conventional</td>\n",
       "      <td>2015</td>\n",
       "      <td>0</td>\n",
       "    </tr>\n",
       "    <tr>\n",
       "      <th>991</th>\n",
       "      <td>3</td>\n",
       "      <td>12/6/2015</td>\n",
       "      <td>0.92</td>\n",
       "      <td>145740.44</td>\n",
       "      <td>4067.00</td>\n",
       "      <td>89452.99</td>\n",
       "      <td>13570.12</td>\n",
       "      <td>38650.33</td>\n",
       "      <td>19365.92</td>\n",
       "      <td>17733.68</td>\n",
       "      <td>1550.73</td>\n",
       "      <td>conventional</td>\n",
       "      <td>2015</td>\n",
       "      <td>0</td>\n",
       "    </tr>\n",
       "    <tr>\n",
       "      <th>992</th>\n",
       "      <td>4</td>\n",
       "      <td>11/29/2015</td>\n",
       "      <td>1.08</td>\n",
       "      <td>108444.41</td>\n",
       "      <td>3079.44</td>\n",
       "      <td>65254.08</td>\n",
       "      <td>10854.59</td>\n",
       "      <td>29256.30</td>\n",
       "      <td>17455.74</td>\n",
       "      <td>9975.21</td>\n",
       "      <td>1825.35</td>\n",
       "      <td>conventional</td>\n",
       "      <td>2015</td>\n",
       "      <td>0</td>\n",
       "    </tr>\n",
       "  </tbody>\n",
       "</table>\n",
       "</div>"
      ],
      "text/plain": [
       "     Unnamed: 0        Date  AveragePrice  Total Volume     4046      4225  \\\n",
       "988           0  12/27/2015          1.04     123096.09  4647.28  69384.73   \n",
       "989           1  12/20/2015          1.10     116353.68  3702.20  67983.94   \n",
       "990           2  12/13/2015          1.03     125342.89  4904.51  69984.32   \n",
       "991           3   12/6/2015          0.92     145740.44  4067.00  89452.99   \n",
       "992           4  11/29/2015          1.08     108444.41  3079.44  65254.08   \n",
       "\n",
       "         4770  Total Bags  Small Bags  Large Bags  XLarge Bags          type  \\\n",
       "988  11206.40    37857.68    20644.64    11524.06      5688.98  conventional   \n",
       "989   9327.71    35339.83    18144.63    12133.67      5061.53  conventional   \n",
       "990  11398.44    39055.62    21259.82    15580.08      2215.72  conventional   \n",
       "991  13570.12    38650.33    19365.92    17733.68      1550.73  conventional   \n",
       "992  10854.59    29256.30    17455.74     9975.21      1825.35  conventional   \n",
       "\n",
       "     year  region  \n",
       "988  2015       0  \n",
       "989  2015       0  \n",
       "990  2015       0  \n",
       "991  2015       0  \n",
       "992  2015       0  "
      ]
     },
     "execution_count": 31,
     "metadata": {},
     "output_type": "execute_result"
    }
   ],
   "source": [
    "data2.head()"
   ]
  },
  {
   "cell_type": "code",
   "execution_count": 32,
   "id": "c6e15ac6",
   "metadata": {},
   "outputs": [
    {
     "data": {
      "text/plain": [
       "0    338\n",
       "1    338\n",
       "2    338\n",
       "Name: region, dtype: int64"
      ]
     },
     "execution_count": 32,
     "metadata": {},
     "output_type": "execute_result"
    }
   ],
   "source": [
    "data2.region.value_counts()"
   ]
  },
  {
   "cell_type": "markdown",
   "id": "f9c76afa",
   "metadata": {},
   "source": [
    "#### Still the same number. Seems to have worked. "
   ]
  },
  {
   "cell_type": "markdown",
   "id": "a3f0a8f4",
   "metadata": {},
   "source": [
    "# Test Assumptions"
   ]
  },
  {
   "cell_type": "markdown",
   "id": "ffbaf79f",
   "metadata": {},
   "source": [
    "## Test Normality"
   ]
  },
  {
   "cell_type": "code",
   "execution_count": 35,
   "id": "89c46a98",
   "metadata": {},
   "outputs": [
    {
     "data": {
      "text/plain": [
       "<seaborn.axisgrid.FacetGrid at 0x148032ec0>"
      ]
     },
     "execution_count": 35,
     "metadata": {},
     "output_type": "execute_result"
    },
    {
     "data": {
      "image/png": "[encoded data removed]",
      "text/plain": [
       "<Figure size 500x500 with 1 Axes>"
      ]
     },
     "metadata": {},
     "output_type": "display_data"
    }
   ],
   "source": [
    "sns.displot(data2['Total Volume'], kde = True)\n",
    "## super postiviely skewed. Square root? "
   ]
  },
  {
   "cell_type": "code",
   "execution_count": 36,
   "id": "d61e4707",
   "metadata": {},
   "outputs": [
    {
     "data": {
      "text/plain": [
       "<seaborn.axisgrid.FacetGrid at 0x13f2706d0>"
      ]
     },
     "execution_count": 36,
     "metadata": {},
     "output_type": "execute_result"
    },
    {
     "data": {
      "image/png": "[encoded data removed]",
      "text/plain": [
       "<Figure size 500x500 with 1 Axes>"
      ]
     },
     "metadata": {},
     "output_type": "display_data"
    }
   ],
   "source": [
    "data2['TotalVolSQRT'] = np.sqrt(data2[\"Total Volume\"])\n",
    "\n",
    "sns.displot(data2['TotalVolSQRT'], kde = True)\n",
    "\n",
    "## It's a roller coaster! Also not what we want. Log?"
   ]
  },
  {
   "cell_type": "code",
   "execution_count": 37,
   "id": "9c89ef33",
   "metadata": {},
   "outputs": [
    {
     "data": {
      "text/plain": [
       "<seaborn.axisgrid.FacetGrid at 0x13f08b010>"
      ]
     },
     "execution_count": 37,
     "metadata": {},
     "output_type": "execute_result"
    },
    {
     "data": {
      "image/png": "[encoded data removed]",
      "text/plain": [
       "<Figure size 500x500 with 1 Axes>"
      ]
     },
     "metadata": {},
     "output_type": "display_data"
    }
   ],
   "source": [
    "data2['TotalVolLOG'] = np.log(data2[\"Total Volume\"])\n",
    "\n",
    "sns.displot(data2['TotalVolLOG'], kde = True)\n",
    "## An even more thrilling rollercoaster ride. This looks bimodal... but I don't know what to do with that yet. "
   ]
  },
  {
   "cell_type": "markdown",
   "id": "10f65e2f",
   "metadata": {},
   "source": [
    "## Test Homogeneity of Variance"
   ]
  },
  {
   "cell_type": "code",
   "execution_count": 38,
   "id": "c431e007",
   "metadata": {},
   "outputs": [
    {
     "data": {
      "text/plain": [
       "BartlettResult(statistic=883.7919675933721, pvalue=3.2755760094735546e-194)"
      ]
     },
     "execution_count": 38,
     "metadata": {},
     "output_type": "execute_result"
    }
   ],
   "source": [
    "scipy.stats.bartlett(data2[\"TotalVolLOG\"], data2[\"region\"])"
   ]
  },
  {
   "cell_type": "markdown",
   "id": "f76c7c76",
   "metadata": {},
   "source": [
    "#### This is significant and therefore violates the assumption of homogeneity of variance"
   ]
  },
  {
   "cell_type": "markdown",
   "id": "b1789da7",
   "metadata": {},
   "source": [
    "## ANOVA (ignoring that it did not meet the homogeneity of variance)"
   ]
  },
  {
   "cell_type": "code",
   "execution_count": 40,
   "id": "c501ac9f",
   "metadata": {},
   "outputs": [
    {
     "data": {
      "text/plain": [
       "F_onewayResult(statistic=174.05378837225294, pvalue=1.101276256457687e-65)"
      ]
     },
     "execution_count": 40,
     "metadata": {},
     "output_type": "execute_result"
    }
   ],
   "source": [
    "stats.f_oneway(avocados[\"Total Volume\"][avocados[\"region\"]==\"Indianapolis\"],\n",
    "              avocados[\"Total Volume\"][avocados[\"region\"]==\"Orlando\"],\n",
    "              avocados[\"Total Volume\"][avocados[\"region\"]==\"PhoenixTucson\"])"
   ]
  },
  {
   "cell_type": "markdown",
   "id": "aa231d4e",
   "metadata": {},
   "source": [
    "With a p-value with an e of -65, there is a significant difference between the total volume in each of those regions. "
   ]
  },
  {
   "cell_type": "markdown",
   "id": "f8857a3a",
   "metadata": {},
   "source": [
    "## Post Hoc: How different is the total volume from those regions?"
   ]
  },
  {
   "cell_type": "code",
   "execution_count": 44,
   "id": "52d1d66d",
   "metadata": {},
   "outputs": [
    {
     "name": "stdout",
     "output_type": "stream",
     "text": [
      "Multiple Comparison of Means - Tukey HSD, FWER=0.05\n",
      "==================================================\n",
      "group1 group2 meandiff p-adj  lower  upper  reject\n",
      "--------------------------------------------------\n",
      "     0      1   0.4292 0.0253 0.0424  0.816   True\n",
      "     0      2   1.4766    0.0 1.0898 1.8634   True\n",
      "     1      2   1.0474    0.0 0.6606 1.4342   True\n",
      "--------------------------------------------------\n"
     ]
    }
   ],
   "source": [
    "postHoc= MultiComparison(data2['TotalVolLOG'], data2[\"region\"])\n",
    "postHocResults = postHoc.tukeyhsd()\n",
    "print(postHocResults)"
   ]
  },
  {
   "cell_type": "markdown",
   "id": "b9303dc4",
   "metadata": {},
   "source": [
    "#### All have a reject the null hypothesis (that they are the same). "
   ]
  },
  {
   "cell_type": "code",
   "execution_count": 47,
   "id": "8e880382",
   "metadata": {},
   "outputs": [],
   "source": [
    "data3 = data2[[\"region\", \"Total Volume\"]]"
   ]
  },
  {
   "cell_type": "code",
   "execution_count": 48,
   "id": "34b2eed0",
   "metadata": {},
   "outputs": [
    {
     "data": {
      "text/html": [
       "<div>\n",
       "<style scoped>\n",
       "    .dataframe tbody tr th:only-of-type {\n",
       "        vertical-align: middle;\n",
       "    }\n",
       "\n",
       "    .dataframe tbody tr th {\n",
       "        vertical-align: top;\n",
       "    }\n",
       "\n",
       "    .dataframe thead th {\n",
       "        text-align: right;\n",
       "    }\n",
       "</style>\n",
       "<table border=\"1\" class=\"dataframe\">\n",
       "  <thead>\n",
       "    <tr style=\"text-align: right;\">\n",
       "      <th></th>\n",
       "      <th>Total Volume</th>\n",
       "    </tr>\n",
       "    <tr>\n",
       "      <th>region</th>\n",
       "      <th></th>\n",
       "    </tr>\n",
       "  </thead>\n",
       "  <tbody>\n",
       "    <tr>\n",
       "      <th>0</th>\n",
       "      <td>89536.661036</td>\n",
       "    </tr>\n",
       "    <tr>\n",
       "      <th>1</th>\n",
       "      <td>173552.378373</td>\n",
       "    </tr>\n",
       "    <tr>\n",
       "      <th>2</th>\n",
       "      <td>578826.368343</td>\n",
       "    </tr>\n",
       "  </tbody>\n",
       "</table>\n",
       "</div>"
      ],
      "text/plain": [
       "         Total Volume\n",
       "region               \n",
       "0        89536.661036\n",
       "1       173552.378373\n",
       "2       578826.368343"
      ]
     },
     "execution_count": 48,
     "metadata": {},
     "output_type": "execute_result"
    }
   ],
   "source": [
    "data3.groupby(\"region\").mean()"
   ]
  },
  {
   "cell_type": "markdown",
   "id": "83f2220c",
   "metadata": {},
   "source": [
    "### All of the volumes are different. The PhoenixTucson had the highest volume (about 4 times larger than Orlando). Indianapolis had the least total volume (about half of Orlando). "
   ]
  },
  {
   "cell_type": "code",
   "execution_count": null,
   "id": "0ac1c782",
   "metadata": {},
   "outputs": [],
   "source": []
  }
 ],
 "metadata": {
  "kernelspec": {
   "display_name": "Python 3 (ipykernel)",
   "language": "python",
   "name": "python3"
  },
  "language_info": {
   "codemirror_mode": {
    "name": "ipython",
    "version": 3
   },
   "file_extension": ".py",
   "mimetype": "text/x-python",
   "name": "python",
   "nbconvert_exporter": "python",
   "pygments_lexer": "ipython3",
   "version": "3.10.9"
  }
 },
 "nbformat": 4,
 "nbformat_minor": 5
}
