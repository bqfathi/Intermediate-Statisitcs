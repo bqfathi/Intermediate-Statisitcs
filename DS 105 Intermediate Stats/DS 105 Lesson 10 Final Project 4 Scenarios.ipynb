{
 "cells": [
  {
   "cell_type": "code",
   "execution_count": 3,
   "id": "701c5f17",
   "metadata": {},
   "outputs": [
    {
     "ename": "ImportError",
     "evalue": "cannot import name 'proportions_ztest' from 'statsmodels.stats.multicomp' (/opt/homebrew/lib/python3.10/site-packages/statsmodels/stats/multicomp.py)",
     "output_type": "error",
     "traceback": [
      "\u001b[0;31m---------------------------------------------------------------------------\u001b[0m",
      "\u001b[0;31mImportError\u001b[0m                               Traceback (most recent call last)",
      "Cell \u001b[0;32mIn [3], line 8\u001b[0m\n\u001b[1;32m      6\u001b[0m \u001b[38;5;28;01mfrom\u001b[39;00m \u001b[38;5;21;01mstatsmodels\u001b[39;00m\u001b[38;5;21;01m.\u001b[39;00m\u001b[38;5;21;01mstats\u001b[39;00m\u001b[38;5;21;01m.\u001b[39;00m\u001b[38;5;21;01mmulticomp\u001b[39;00m \u001b[38;5;28;01mimport\u001b[39;00m pairwise_tukeyhsd\n\u001b[1;32m      7\u001b[0m \u001b[38;5;28;01mfrom\u001b[39;00m \u001b[38;5;21;01mstatsmodels\u001b[39;00m\u001b[38;5;21;01m.\u001b[39;00m\u001b[38;5;21;01mstats\u001b[39;00m\u001b[38;5;21;01m.\u001b[39;00m\u001b[38;5;21;01mmulticomp\u001b[39;00m \u001b[38;5;28;01mimport\u001b[39;00m MultiComparison\n\u001b[0;32m----> 8\u001b[0m \u001b[38;5;28;01mfrom\u001b[39;00m \u001b[38;5;21;01mstatsmodels\u001b[39;00m\u001b[38;5;21;01m.\u001b[39;00m\u001b[38;5;21;01mstats\u001b[39;00m\u001b[38;5;21;01m.\u001b[39;00m\u001b[38;5;21;01mmulticomp\u001b[39;00m \u001b[38;5;28;01mimport\u001b[39;00m proportions_ztest\n\u001b[1;32m      9\u001b[0m \u001b[38;5;28;01mfrom\u001b[39;00m \u001b[38;5;21;01mstatsmodels\u001b[39;00m\u001b[38;5;21;01m.\u001b[39;00m\u001b[38;5;21;01mstats\u001b[39;00m\u001b[38;5;21;01m.\u001b[39;00m\u001b[38;5;21;01mmulticomp\u001b[39;00m \u001b[38;5;28;01mimport\u001b[39;00m proportions_chisquare\n",
      "\u001b[0;31mImportError\u001b[0m: cannot import name 'proportions_ztest' from 'statsmodels.stats.multicomp' (/opt/homebrew/lib/python3.10/site-packages/statsmodels/stats/multicomp.py)"
     ]
    }
   ],
   "source": [
    "import numpy as np\n",
    "import pandas as pd\n",
    "from statsmodels.stats.proportion import proportions_ztest\n",
    "import seaborn as sns\n",
    "from scipy import stats\n",
    "from statsmodels.stats.multicomp import pairwise_tukeyhsd\n",
    "from statsmodels.stats.multicomp import MultiComparison\n",
    "from statsmodels.stats.multicomp import proportions_ztest\n",
    "from statsmodels.stats.multicomp import proportions_chisquare"
   ]
  },
  {
   "cell_type": "markdown",
   "id": "9c3b39f2",
   "metadata": {},
   "source": [
    "# Scenario 1: Private Investigator. \n",
    "#### 28 out of 94 claimants are not nearly as \"disabled\" as their diagnosis suggests & hypothetical level of fraud is 16%\n",
    "### We are comparing a sample ratio to a whole, so we will conduct a t-test"
   ]
  },
  {
   "cell_type": "code",
   "execution_count": 4,
   "id": "3dbfdbfc",
   "metadata": {},
   "outputs": [
    {
     "name": "stdout",
     "output_type": "stream",
     "text": [
      "2.9229268377264077 0.0034675798365736213\n"
     ]
    }
   ],
   "source": [
    "count = 28 \n",
    "nobs = 94 \n",
    "value = .16 \n",
    "stat, pval = proportions_ztest(count, nobs, value) \n",
    "print(stat, pval)"
   ]
  },
  {
   "cell_type": "code",
   "execution_count": 5,
   "id": "10b157fe",
   "metadata": {},
   "outputs": [
    {
     "data": {
      "text/plain": [
       "(2.9229268377264077, 0.0034675798365736213)"
      ]
     },
     "execution_count": 5,
     "metadata": {},
     "output_type": "execute_result"
    }
   ],
   "source": [
    "t, p = proportions_ztest(28, 94, 0.16)\n",
    "t, p"
   ]
  },
  {
   "cell_type": "markdown",
   "id": "f244eade",
   "metadata": {},
   "source": [
    "### This is a significant difference between the claimants from this insurance company \n",
    "### claiming they are \"disabled\" than the industry norm of 16%"
   ]
  },
  {
   "cell_type": "markdown",
   "id": "fbbdfddf",
   "metadata": {},
   "source": [
    "# Scenario 2: Anticeptics\n",
    "## Running an Independent Chi-Square"
   ]
  },
  {
   "cell_type": "code",
   "execution_count": 6,
   "id": "59f31809",
   "metadata": {},
   "outputs": [
    {
     "data": {
      "text/html": [
       "<div>\n",
       "<style scoped>\n",
       "    .dataframe tbody tr th:only-of-type {\n",
       "        vertical-align: middle;\n",
       "    }\n",
       "\n",
       "    .dataframe tbody tr th {\n",
       "        vertical-align: top;\n",
       "    }\n",
       "\n",
       "    .dataframe thead th {\n",
       "        text-align: right;\n",
       "    }\n",
       "</style>\n",
       "<table border=\"1\" class=\"dataframe\">\n",
       "  <thead>\n",
       "    <tr style=\"text-align: right;\">\n",
       "      <th></th>\n",
       "      <th>Clinic</th>\n",
       "      <th>Antiseptic Type</th>\n",
       "      <th>Number of applications</th>\n",
       "    </tr>\n",
       "  </thead>\n",
       "  <tbody>\n",
       "    <tr>\n",
       "      <th>0</th>\n",
       "      <td>1</td>\n",
       "      <td>A</td>\n",
       "      <td>22</td>\n",
       "    </tr>\n",
       "    <tr>\n",
       "      <th>1</th>\n",
       "      <td>1</td>\n",
       "      <td>B</td>\n",
       "      <td>71</td>\n",
       "    </tr>\n",
       "    <tr>\n",
       "      <th>2</th>\n",
       "      <td>1</td>\n",
       "      <td>C</td>\n",
       "      <td>8</td>\n",
       "    </tr>\n",
       "    <tr>\n",
       "      <th>3</th>\n",
       "      <td>1</td>\n",
       "      <td>D</td>\n",
       "      <td>49</td>\n",
       "    </tr>\n",
       "    <tr>\n",
       "      <th>4</th>\n",
       "      <td>2</td>\n",
       "      <td>A</td>\n",
       "      <td>38</td>\n",
       "    </tr>\n",
       "  </tbody>\n",
       "</table>\n",
       "</div>"
      ],
      "text/plain": [
       "   Clinic Antiseptic Type   Number of applications\n",
       "0       1                A                      22\n",
       "1       1                B                      71\n",
       "2       1                C                       8\n",
       "3       1                D                      49\n",
       "4       2                A                      38"
      ]
     },
     "execution_count": 6,
     "metadata": {},
     "output_type": "execute_result"
    }
   ],
   "source": [
    "antiseptics = pd.read_csv('/Users/britfathi/Downloads/antiseptics.csv')\n",
    "antiseptics.head()"
   ]
  },
  {
   "cell_type": "code",
   "execution_count": 7,
   "id": "3fa082d3",
   "metadata": {},
   "outputs": [
    {
     "data": {
      "text/html": [
       "<div>\n",
       "<style scoped>\n",
       "    .dataframe tbody tr th:only-of-type {\n",
       "        vertical-align: middle;\n",
       "    }\n",
       "\n",
       "    .dataframe tbody tr th {\n",
       "        vertical-align: top;\n",
       "    }\n",
       "\n",
       "    .dataframe thead th {\n",
       "        text-align: right;\n",
       "    }\n",
       "</style>\n",
       "<table border=\"1\" class=\"dataframe\">\n",
       "  <thead>\n",
       "    <tr style=\"text-align: right;\">\n",
       "      <th></th>\n",
       "      <th>Clinic</th>\n",
       "      <th>AT</th>\n",
       "      <th>Count</th>\n",
       "    </tr>\n",
       "  </thead>\n",
       "  <tbody>\n",
       "    <tr>\n",
       "      <th>0</th>\n",
       "      <td>1</td>\n",
       "      <td>A</td>\n",
       "      <td>22</td>\n",
       "    </tr>\n",
       "    <tr>\n",
       "      <th>1</th>\n",
       "      <td>1</td>\n",
       "      <td>B</td>\n",
       "      <td>71</td>\n",
       "    </tr>\n",
       "    <tr>\n",
       "      <th>2</th>\n",
       "      <td>1</td>\n",
       "      <td>C</td>\n",
       "      <td>8</td>\n",
       "    </tr>\n",
       "    <tr>\n",
       "      <th>3</th>\n",
       "      <td>1</td>\n",
       "      <td>D</td>\n",
       "      <td>49</td>\n",
       "    </tr>\n",
       "    <tr>\n",
       "      <th>4</th>\n",
       "      <td>2</td>\n",
       "      <td>A</td>\n",
       "      <td>38</td>\n",
       "    </tr>\n",
       "  </tbody>\n",
       "</table>\n",
       "</div>"
      ],
      "text/plain": [
       "   Clinic AT  Count\n",
       "0       1  A     22\n",
       "1       1  B     71\n",
       "2       1  C      8\n",
       "3       1  D     49\n",
       "4       2  A     38"
      ]
     },
     "execution_count": 7,
     "metadata": {},
     "output_type": "execute_result"
    }
   ],
   "source": [
    "antiseptic1 = pd.read_csv('/Users/britfathi/Downloads/antiseptics.csv')\n",
    "antiseptic1.rename(columns={\"Antiseptic Type \": \"AT\", 'Number of applications': \"Count\"}, inplace = True)\n",
    "antiseptic1.head()"
   ]
  },
  {
   "cell_type": "code",
   "execution_count": 8,
   "id": "bdb7237a",
   "metadata": {},
   "outputs": [
    {
     "data": {
      "text/html": [
       "<div>\n",
       "<style scoped>\n",
       "    .dataframe tbody tr th:only-of-type {\n",
       "        vertical-align: middle;\n",
       "    }\n",
       "\n",
       "    .dataframe tbody tr th {\n",
       "        vertical-align: top;\n",
       "    }\n",
       "\n",
       "    .dataframe thead th {\n",
       "        text-align: right;\n",
       "    }\n",
       "</style>\n",
       "<table border=\"1\" class=\"dataframe\">\n",
       "  <thead>\n",
       "    <tr style=\"text-align: right;\">\n",
       "      <th>Clinic</th>\n",
       "      <th>1</th>\n",
       "      <th>2</th>\n",
       "      <th>3</th>\n",
       "    </tr>\n",
       "    <tr>\n",
       "      <th>AT</th>\n",
       "      <th></th>\n",
       "      <th></th>\n",
       "      <th></th>\n",
       "    </tr>\n",
       "  </thead>\n",
       "  <tbody>\n",
       "    <tr>\n",
       "      <th>A</th>\n",
       "      <td>22</td>\n",
       "      <td>38</td>\n",
       "      <td>84</td>\n",
       "    </tr>\n",
       "    <tr>\n",
       "      <th>B</th>\n",
       "      <td>71</td>\n",
       "      <td>112</td>\n",
       "      <td>298</td>\n",
       "    </tr>\n",
       "    <tr>\n",
       "      <th>C</th>\n",
       "      <td>8</td>\n",
       "      <td>14</td>\n",
       "      <td>37</td>\n",
       "    </tr>\n",
       "    <tr>\n",
       "      <th>D</th>\n",
       "      <td>49</td>\n",
       "      <td>69</td>\n",
       "      <td>182</td>\n",
       "    </tr>\n",
       "  </tbody>\n",
       "</table>\n",
       "</div>"
      ],
      "text/plain": [
       "Clinic   1    2    3\n",
       "AT                  \n",
       "A       22   38   84\n",
       "B       71  112  298\n",
       "C        8   14   37\n",
       "D       49   69  182"
      ]
     },
     "execution_count": 8,
     "metadata": {},
     "output_type": "execute_result"
    }
   ],
   "source": [
    "antiseptics_pivot = pd.pivot_table(antiseptic1,index='AT',columns='Clinic',values = 'Count')\n",
    "antiseptics_pivot"
   ]
  },
  {
   "cell_type": "code",
   "execution_count": 9,
   "id": "f3aa2fd5",
   "metadata": {},
   "outputs": [
    {
     "data": {
      "text/plain": [
       "Chi2ContingencyResult(statistic=1.225920250023835, pvalue=0.9755850789571424, dof=6, expected_freq=array([[ 21.95121951,  34.09756098,  87.95121951],\n",
       "       [ 73.32317073, 113.8953252 , 293.78150407],\n",
       "       [  8.99390244,  13.97052846,  36.03556911],\n",
       "       [ 45.73170732,  71.03658537, 183.23170732]]))"
      ]
     },
     "execution_count": 9,
     "metadata": {},
     "output_type": "execute_result"
    }
   ],
   "source": [
    "stats.chi2_contingency(antiseptics_pivot)"
   ]
  },
  {
   "cell_type": "markdown",
   "id": "60e4ddd5",
   "metadata": {},
   "source": [
    "#### pvalue means we accept the null hypothesis. There is no difference of the location and the use of the antiseptic. "
   ]
  },
  {
   "cell_type": "markdown",
   "id": "c68c779a",
   "metadata": {},
   "source": [
    "# Scenario 3: Savings Practices\n",
    "## We will be doing an ANOVA \n",
    "### because we have continuious dependent variable (the average account balance) and\n",
    "### they want to know if it is dependant on the demographics for marketing purposes. "
   ]
  },
  {
   "cell_type": "code",
   "execution_count": 10,
   "id": "dad8b1f3",
   "metadata": {},
   "outputs": [
    {
     "data": {
      "text/html": [
       "<div>\n",
       "<style scoped>\n",
       "    .dataframe tbody tr th:only-of-type {\n",
       "        vertical-align: middle;\n",
       "    }\n",
       "\n",
       "    .dataframe tbody tr th {\n",
       "        vertical-align: top;\n",
       "    }\n",
       "\n",
       "    .dataframe thead th {\n",
       "        text-align: right;\n",
       "    }\n",
       "</style>\n",
       "<table border=\"1\" class=\"dataframe\">\n",
       "  <thead>\n",
       "    <tr style=\"text-align: right;\">\n",
       "      <th></th>\n",
       "      <th>Group A</th>\n",
       "      <th>Group B</th>\n",
       "      <th>Group C</th>\n",
       "      <th>Group D</th>\n",
       "    </tr>\n",
       "  </thead>\n",
       "  <tbody>\n",
       "    <tr>\n",
       "      <th>0</th>\n",
       "      <td>21383.06</td>\n",
       "      <td>17077.54</td>\n",
       "      <td>13636.38</td>\n",
       "      <td>14582.73</td>\n",
       "    </tr>\n",
       "    <tr>\n",
       "      <th>1</th>\n",
       "      <td>19729.92</td>\n",
       "      <td>17258.06</td>\n",
       "      <td>5156.36</td>\n",
       "      <td>12880.28</td>\n",
       "    </tr>\n",
       "    <tr>\n",
       "      <th>2</th>\n",
       "      <td>24071.53</td>\n",
       "      <td>20652.91</td>\n",
       "      <td>4446.92</td>\n",
       "      <td>16412.72</td>\n",
       "    </tr>\n",
       "    <tr>\n",
       "      <th>3</th>\n",
       "      <td>19056.28</td>\n",
       "      <td>20845.06</td>\n",
       "      <td>4892.59</td>\n",
       "      <td>14020.00</td>\n",
       "    </tr>\n",
       "    <tr>\n",
       "      <th>4</th>\n",
       "      <td>19147.18</td>\n",
       "      <td>22296.64</td>\n",
       "      <td>14099.38</td>\n",
       "      <td>16467.70</td>\n",
       "    </tr>\n",
       "  </tbody>\n",
       "</table>\n",
       "</div>"
      ],
      "text/plain": [
       "    Group A   Group B   Group C   Group D\n",
       "0  21383.06  17077.54  13636.38  14582.73\n",
       "1  19729.92  17258.06   5156.36  12880.28\n",
       "2  24071.53  20652.91   4446.92  16412.72\n",
       "3  19056.28  20845.06   4892.59  14020.00\n",
       "4  19147.18  22296.64  14099.38  16467.70"
      ]
     },
     "execution_count": 10,
     "metadata": {},
     "output_type": "execute_result"
    }
   ],
   "source": [
    "## Import data\n",
    "\n",
    "savings = pd.read_csv('/Users/britfathi/Downloads/savings.csv')\n",
    "savings.head()"
   ]
  },
  {
   "cell_type": "code",
   "execution_count": 11,
   "id": "38da7ad4",
   "metadata": {},
   "outputs": [
    {
     "data": {
      "text/html": [
       "<div>\n",
       "<style scoped>\n",
       "    .dataframe tbody tr th:only-of-type {\n",
       "        vertical-align: middle;\n",
       "    }\n",
       "\n",
       "    .dataframe tbody tr th {\n",
       "        vertical-align: top;\n",
       "    }\n",
       "\n",
       "    .dataframe thead th {\n",
       "        text-align: right;\n",
       "    }\n",
       "</style>\n",
       "<table border=\"1\" class=\"dataframe\">\n",
       "  <thead>\n",
       "    <tr style=\"text-align: right;\">\n",
       "      <th></th>\n",
       "      <th>Group</th>\n",
       "      <th>$</th>\n",
       "    </tr>\n",
       "  </thead>\n",
       "  <tbody>\n",
       "    <tr>\n",
       "      <th>0</th>\n",
       "      <td>Group A</td>\n",
       "      <td>21383.06</td>\n",
       "    </tr>\n",
       "    <tr>\n",
       "      <th>1</th>\n",
       "      <td>Group A</td>\n",
       "      <td>19729.92</td>\n",
       "    </tr>\n",
       "    <tr>\n",
       "      <th>2</th>\n",
       "      <td>Group A</td>\n",
       "      <td>24071.53</td>\n",
       "    </tr>\n",
       "    <tr>\n",
       "      <th>3</th>\n",
       "      <td>Group A</td>\n",
       "      <td>19056.28</td>\n",
       "    </tr>\n",
       "    <tr>\n",
       "      <th>4</th>\n",
       "      <td>Group A</td>\n",
       "      <td>19147.18</td>\n",
       "    </tr>\n",
       "  </tbody>\n",
       "</table>\n",
       "</div>"
      ],
      "text/plain": [
       "     Group         $\n",
       "0  Group A  21383.06\n",
       "1  Group A  19729.92\n",
       "2  Group A  24071.53\n",
       "3  Group A  19056.28\n",
       "4  Group A  19147.18"
      ]
     },
     "execution_count": 11,
     "metadata": {},
     "output_type": "execute_result"
    }
   ],
   "source": [
    "savings_expanded = pd.melt(savings, var_name=\"Group\", value_name='$')\n",
    "savings_expanded.head()"
   ]
  },
  {
   "cell_type": "code",
   "execution_count": 12,
   "id": "d4f98b2e",
   "metadata": {},
   "outputs": [
    {
     "data": {
      "text/html": [
       "<div>\n",
       "<style scoped>\n",
       "    .dataframe tbody tr th:only-of-type {\n",
       "        vertical-align: middle;\n",
       "    }\n",
       "\n",
       "    .dataframe tbody tr th {\n",
       "        vertical-align: top;\n",
       "    }\n",
       "\n",
       "    .dataframe thead th {\n",
       "        text-align: right;\n",
       "    }\n",
       "</style>\n",
       "<table border=\"1\" class=\"dataframe\">\n",
       "  <thead>\n",
       "    <tr style=\"text-align: right;\">\n",
       "      <th></th>\n",
       "      <th>Group</th>\n",
       "      <th>$</th>\n",
       "    </tr>\n",
       "  </thead>\n",
       "  <tbody>\n",
       "    <tr>\n",
       "      <th>0</th>\n",
       "      <td>0</td>\n",
       "      <td>21383.06</td>\n",
       "    </tr>\n",
       "    <tr>\n",
       "      <th>1</th>\n",
       "      <td>0</td>\n",
       "      <td>19729.92</td>\n",
       "    </tr>\n",
       "    <tr>\n",
       "      <th>2</th>\n",
       "      <td>0</td>\n",
       "      <td>24071.53</td>\n",
       "    </tr>\n",
       "    <tr>\n",
       "      <th>3</th>\n",
       "      <td>0</td>\n",
       "      <td>19056.28</td>\n",
       "    </tr>\n",
       "    <tr>\n",
       "      <th>4</th>\n",
       "      <td>0</td>\n",
       "      <td>19147.18</td>\n",
       "    </tr>\n",
       "  </tbody>\n",
       "</table>\n",
       "</div>"
      ],
      "text/plain": [
       "   Group         $\n",
       "0      0  21383.06\n",
       "1      0  19729.92\n",
       "2      0  24071.53\n",
       "3      0  19056.28\n",
       "4      0  19147.18"
      ]
     },
     "execution_count": 12,
     "metadata": {},
     "output_type": "execute_result"
    }
   ],
   "source": [
    "savings_expanded = savings_expanded.replace(savings.columns, [0,1,2,3])\n",
    "savings_expanded.head()"
   ]
  },
  {
   "cell_type": "markdown",
   "id": "4dd0d522",
   "metadata": {},
   "source": [
    "## Test for normality"
   ]
  },
  {
   "cell_type": "code",
   "execution_count": 13,
   "id": "a68596a8",
   "metadata": {
    "scrolled": false
   },
   "outputs": [
    {
     "name": "stderr",
     "output_type": "stream",
     "text": [
      "/var/folders/t5/4lqy4g_n1z14zq1k52ld2cx00000gn/T/ipykernel_63953/1891789050.py:1: UserWarning: \n",
      "\n",
      "`distplot` is a deprecated function and will be removed in seaborn v0.14.0.\n",
      "\n",
      "Please adapt your code to use either `displot` (a figure-level function with\n",
      "similar flexibility) or `histplot` (an axes-level function for histograms).\n",
      "\n",
      "For a guide to updating your code to use the new functions, please see\n",
      "https://gist.github.com/mwaskom/de44147ed2974457ad6372750bbe5751\n",
      "\n",
      "  sns.distplot(savings[~np.isnan(savings.values)])\n"
     ]
    },
    {
     "data": {
      "text/plain": [
       "<Axes: ylabel='Density'>"
      ]
     },
     "execution_count": 13,
     "metadata": {},
     "output_type": "execute_result"
    },
    {
     "data": {
      "image/png": "[encoded data removed]",
      "text/plain": [
       "<Figure size 640x480 with 1 Axes>"
      ]
     },
     "metadata": {},
     "output_type": "display_data"
    }
   ],
   "source": [
    "sns.distplot(savings[~np.isnan(savings.values)])\n",
    "## Pretty close to normal"
   ]
  },
  {
   "cell_type": "markdown",
   "id": "d0aa1343",
   "metadata": {},
   "source": [
    "## Test for homogeneity of variance. "
   ]
  },
  {
   "cell_type": "code",
   "execution_count": 14,
   "id": "7e895446",
   "metadata": {},
   "outputs": [],
   "source": [
    "import scipy\n",
    "### tried loading it above and it gave me weird warnings. "
   ]
  },
  {
   "cell_type": "code",
   "execution_count": 15,
   "id": "01b956c2",
   "metadata": {},
   "outputs": [
    {
     "data": {
      "text/plain": [
       "BartlettResult(statistic=3639.1753663764925, pvalue=0.0)"
      ]
     },
     "execution_count": 15,
     "metadata": {},
     "output_type": "execute_result"
    }
   ],
   "source": [
    "scipy.stats.bartlett(savings_expanded['$'], savings_expanded['Group'])"
   ]
  },
  {
   "cell_type": "markdown",
   "id": "96493e51",
   "metadata": {},
   "source": [
    "### Does not meet the assumption of homogeneity of variance because pvalue is <.05 "
   ]
  },
  {
   "cell_type": "code",
   "execution_count": 16,
   "id": "707cfb7d",
   "metadata": {},
   "outputs": [
    {
     "data": {
      "text/plain": [
       "FlignerResult(statistic=nan, pvalue=nan)"
      ]
     },
     "execution_count": 16,
     "metadata": {},
     "output_type": "execute_result"
    }
   ],
   "source": [
    "scipy.stats.fligner(savings_expanded['$'], savings_expanded['Group'])\n",
    "#### Not sure why I get a nan on Fligner's"
   ]
  },
  {
   "cell_type": "code",
   "execution_count": 18,
   "id": "eddb8b0e",
   "metadata": {},
   "outputs": [],
   "source": [
    "save = [savings[col].dropna() for col in savings]"
   ]
  },
  {
   "cell_type": "code",
   "execution_count": 19,
   "id": "cf182e9e",
   "metadata": {},
   "outputs": [
    {
     "data": {
      "text/plain": [
       "F_onewayResult(statistic=203.25514198903812, pvalue=1.9933595578005075e-61)"
      ]
     },
     "execution_count": 19,
     "metadata": {},
     "output_type": "execute_result"
    }
   ],
   "source": [
    "stats.f_oneway(*save)"
   ]
  },
  {
   "cell_type": "code",
   "execution_count": 21,
   "id": "6b5dd7f8",
   "metadata": {},
   "outputs": [],
   "source": [
    "savings_expanded.dropna(inplace=True)"
   ]
  },
  {
   "cell_type": "code",
   "execution_count": 22,
   "id": "7109478e",
   "metadata": {},
   "outputs": [
    {
     "data": {
      "text/plain": [
       "F_onewayResult(statistic=203.25514198903812, pvalue=1.9933595578005075e-61)"
      ]
     },
     "execution_count": 22,
     "metadata": {},
     "output_type": "execute_result"
    }
   ],
   "source": [
    "stats.f_oneway(savings_expanded['$'][savings_expanded['Group']==0],\n",
    "              savings_expanded['$'][savings_expanded['Group']==1],\n",
    "              savings_expanded['$'][savings_expanded['Group']==2],\n",
    "              savings_expanded['$'][savings_expanded['Group']==3])"
   ]
  },
  {
   "cell_type": "markdown",
   "id": "72d83830",
   "metadata": {},
   "source": [
    "#### This p-value means there is a difference between demographic groups, but this is also said cautiously because of the failed assumptions. \n"
   ]
  },
  {
   "cell_type": "markdown",
   "id": "10b310f2",
   "metadata": {},
   "source": [
    "## Post Hoc"
   ]
  },
  {
   "cell_type": "code",
   "execution_count": 25,
   "id": "d162da02",
   "metadata": {},
   "outputs": [
    {
     "name": "stdout",
     "output_type": "stream",
     "text": [
      "     Multiple Comparison of Means - Tukey HSD, FWER=0.05      \n",
      "==============================================================\n",
      "group1 group2   meandiff  p-adj    lower       upper    reject\n",
      "--------------------------------------------------------------\n",
      "     0      1  -4835.5416   0.0    -6431.09  -3239.9931   True\n",
      "     0      2 -14174.3925   0.0 -15708.3646 -12640.4204   True\n",
      "     0      3  -8384.0728   0.0  -9898.8374  -6869.3083   True\n",
      "     1      2  -9338.8509   0.0 -10906.3265  -7771.3754   True\n",
      "     1      3  -3548.5313   0.0  -5097.2149  -1999.8477   True\n",
      "     2      3   5790.3197   0.0   4305.1542   7275.4851   True\n",
      "--------------------------------------------------------------\n"
     ]
    }
   ],
   "source": [
    "postHoc = MultiComparison(savings_expanded['$'],savings_expanded['Group'])\n",
    "postHocResults = postHoc.tukeyhsd()\n",
    "print(postHocResults)"
   ]
  },
  {
   "cell_type": "code",
   "execution_count": 27,
   "id": "39cfa219",
   "metadata": {},
   "outputs": [],
   "source": [
    "savings1 = savings_expanded[['$', 'Group']]"
   ]
  },
  {
   "cell_type": "code",
   "execution_count": 28,
   "id": "836004dc",
   "metadata": {},
   "outputs": [
    {
     "data": {
      "text/html": [
       "<div>\n",
       "<style scoped>\n",
       "    .dataframe tbody tr th:only-of-type {\n",
       "        vertical-align: middle;\n",
       "    }\n",
       "\n",
       "    .dataframe tbody tr th {\n",
       "        vertical-align: top;\n",
       "    }\n",
       "\n",
       "    .dataframe thead th {\n",
       "        text-align: right;\n",
       "    }\n",
       "</style>\n",
       "<table border=\"1\" class=\"dataframe\">\n",
       "  <thead>\n",
       "    <tr style=\"text-align: right;\">\n",
       "      <th></th>\n",
       "      <th>$</th>\n",
       "    </tr>\n",
       "    <tr>\n",
       "      <th>Group</th>\n",
       "      <th></th>\n",
       "    </tr>\n",
       "  </thead>\n",
       "  <tbody>\n",
       "    <tr>\n",
       "      <th>0</th>\n",
       "      <td>23401.849216</td>\n",
       "    </tr>\n",
       "    <tr>\n",
       "      <th>1</th>\n",
       "      <td>18566.307660</td>\n",
       "    </tr>\n",
       "    <tr>\n",
       "      <th>2</th>\n",
       "      <td>9227.456727</td>\n",
       "    </tr>\n",
       "    <tr>\n",
       "      <th>3</th>\n",
       "      <td>15017.776379</td>\n",
       "    </tr>\n",
       "  </tbody>\n",
       "</table>\n",
       "</div>"
      ],
      "text/plain": [
       "                  $\n",
       "Group              \n",
       "0      23401.849216\n",
       "1      18566.307660\n",
       "2       9227.456727\n",
       "3      15017.776379"
      ]
     },
     "execution_count": 28,
     "metadata": {},
     "output_type": "execute_result"
    }
   ],
   "source": [
    "savings1.groupby(\"Group\").mean()"
   ]
  },
  {
   "cell_type": "markdown",
   "id": "034f4708",
   "metadata": {},
   "source": [
    "### Cautiously, we can say their savings does differ by demographic groups, with group 2 having the lowest average savings, and group 1 having the highest average savings. "
   ]
  },
  {
   "cell_type": "markdown",
   "id": "578a3480",
   "metadata": {},
   "source": [
    "# Scenario 4: School Bond"
   ]
  },
  {
   "cell_type": "markdown",
   "id": "5d33faed",
   "metadata": {},
   "source": [
    "## This is a two-proportion z-test Comparing proportions of those with children and without children those who are or are not in favor of the bond. "
   ]
  },
  {
   "cell_type": "code",
   "execution_count": 31,
   "id": "248bd9a2",
   "metadata": {},
   "outputs": [],
   "source": [
    "from statsmodels.stats.proportion import proportions_ztest"
   ]
  },
  {
   "cell_type": "code",
   "execution_count": 38,
   "id": "17260334",
   "metadata": {},
   "outputs": [
    {
     "name": "stdout",
     "output_type": "stream",
     "text": [
      "1.3156546893290748 0.18828996870412507\n"
     ]
    }
   ],
   "source": [
    "count = np.array([374, 171]) \n",
    "nobs = np.array([374+129, 171+74])\n",
    "stat, pval = proportions_ztest(count, nobs) \n",
    "print(stat, pval)"
   ]
  },
  {
   "cell_type": "code",
   "execution_count": 37,
   "id": "7e98e1b0",
   "metadata": {},
   "outputs": [
    {
     "name": "stdout",
     "output_type": "stream",
     "text": [
      "1.3156546893290748 0.18828996870412507\n"
     ]
    }
   ],
   "source": [
    "stat, pval = proportions_ztest([374,171],[374+129, 171+74])\n",
    "print(stat,pval)"
   ]
  },
  {
   "cell_type": "markdown",
   "id": "24607757",
   "metadata": {},
   "source": [
    "### There is no statistical difference between those with children and those without children who favored the school bond. "
   ]
  },
  {
   "cell_type": "code",
   "execution_count": null,
   "id": "821615eb",
   "metadata": {},
   "outputs": [],
   "source": []
  }
 ],
 "metadata": {
  "kernelspec": {
   "display_name": "Python 3 (ipykernel)",
   "language": "python",
   "name": "python3"
  },
  "language_info": {
   "codemirror_mode": {
    "name": "ipython",
    "version": 3
   },
   "file_extension": ".py",
   "mimetype": "text/x-python",
   "name": "python",
   "nbconvert_exporter": "python",
   "pygments_lexer": "ipython3",
   "version": "3.10.9"
  }
 },
 "nbformat": 4,
 "nbformat_minor": 5
}
