{
 "cells": [
  {
   "cell_type": "code",
   "execution_count": 1,
   "id": "ff362d73",
   "metadata": {},
   "outputs": [],
   "source": [
    "import pandas as pd\n",
    "import numpy as np\n",
    "from scipy.stats import norm\n",
    "from scipy import stats\n",
    "import matplotlib.pyplot as plt\n",
    "import seaborn as sns\n",
    "from scipy.stats import ttest_ind"
   ]
  },
  {
   "cell_type": "markdown",
   "id": "ccd6cae5",
   "metadata": {},
   "source": [
    "## Importing Data"
   ]
  },
  {
   "cell_type": "code",
   "execution_count": 2,
   "id": "cf2b4f39",
   "metadata": {},
   "outputs": [],
   "source": [
    "anime = pd.read_csv('/Users/britfathi/Downloads/anime.csv')"
   ]
  },
  {
   "cell_type": "code",
   "execution_count": 3,
   "id": "05950791",
   "metadata": {},
   "outputs": [
    {
     "data": {
      "text/html": [
       "<div>\n",
       "<style scoped>\n",
       "    .dataframe tbody tr th:only-of-type {\n",
       "        vertical-align: middle;\n",
       "    }\n",
       "\n",
       "    .dataframe tbody tr th {\n",
       "        vertical-align: top;\n",
       "    }\n",
       "\n",
       "    .dataframe thead th {\n",
       "        text-align: right;\n",
       "    }\n",
       "</style>\n",
       "<table border=\"1\" class=\"dataframe\">\n",
       "  <thead>\n",
       "    <tr style=\"text-align: right;\">\n",
       "      <th></th>\n",
       "      <th>anime_id</th>\n",
       "      <th>title</th>\n",
       "      <th>title_english</th>\n",
       "      <th>title_japanese</th>\n",
       "      <th>title_synonyms</th>\n",
       "      <th>image_url</th>\n",
       "      <th>type</th>\n",
       "      <th>source</th>\n",
       "      <th>episodes</th>\n",
       "      <th>status</th>\n",
       "      <th>...</th>\n",
       "      <th>broadcast</th>\n",
       "      <th>related</th>\n",
       "      <th>producer</th>\n",
       "      <th>licensor</th>\n",
       "      <th>studio</th>\n",
       "      <th>genre</th>\n",
       "      <th>opening_theme</th>\n",
       "      <th>ending_theme</th>\n",
       "      <th>duration_min</th>\n",
       "      <th>aired_from_year</th>\n",
       "    </tr>\n",
       "  </thead>\n",
       "  <tbody>\n",
       "    <tr>\n",
       "      <th>0</th>\n",
       "      <td>11013</td>\n",
       "      <td>Inu x Boku SS</td>\n",
       "      <td>Inu X Boku Secret Service</td>\n",
       "      <td>妖狐×僕SS</td>\n",
       "      <td>Youko x Boku SS</td>\n",
       "      <td>https://myanimelist.cdn-dena.com/images/anime/...</td>\n",
       "      <td>TV</td>\n",
       "      <td>Manga</td>\n",
       "      <td>12</td>\n",
       "      <td>Finished Airing</td>\n",
       "      <td>...</td>\n",
       "      <td>Fridays at Unknown</td>\n",
       "      <td>{'Adaptation': [{'mal_id': 17207, 'type': 'man...</td>\n",
       "      <td>Aniplex, Square Enix, Mainichi Broadcasting Sy...</td>\n",
       "      <td>Sentai Filmworks</td>\n",
       "      <td>David Production</td>\n",
       "      <td>Comedy, Supernatural, Romance, Shounen</td>\n",
       "      <td>['\"Nirvana\" by MUCC']</td>\n",
       "      <td>['#1: \"Nirvana\" by MUCC (eps 1, 11-12)', '#2: ...</td>\n",
       "      <td>24.0</td>\n",
       "      <td>2012</td>\n",
       "    </tr>\n",
       "    <tr>\n",
       "      <th>1</th>\n",
       "      <td>2104</td>\n",
       "      <td>Seto no Hanayome</td>\n",
       "      <td>My Bride is a Mermaid</td>\n",
       "      <td>瀬戸の花嫁</td>\n",
       "      <td>The Inland Sea Bride</td>\n",
       "      <td>https://myanimelist.cdn-dena.com/images/anime/...</td>\n",
       "      <td>TV</td>\n",
       "      <td>Manga</td>\n",
       "      <td>26</td>\n",
       "      <td>Finished Airing</td>\n",
       "      <td>...</td>\n",
       "      <td>Unknown</td>\n",
       "      <td>{'Adaptation': [{'mal_id': 759, 'type': 'manga...</td>\n",
       "      <td>TV Tokyo, AIC, Square Enix, Sotsu</td>\n",
       "      <td>Funimation</td>\n",
       "      <td>Gonzo</td>\n",
       "      <td>Comedy, Parody, Romance, School, Shounen</td>\n",
       "      <td>['\"Romantic summer\" by SUN&amp;LUNAR']</td>\n",
       "      <td>['#1: \"Ashita e no Hikari (明日への光)\" by Asuka Hi...</td>\n",
       "      <td>24.0</td>\n",
       "      <td>2007</td>\n",
       "    </tr>\n",
       "    <tr>\n",
       "      <th>2</th>\n",
       "      <td>5262</td>\n",
       "      <td>Shugo Chara!! Doki</td>\n",
       "      <td>Shugo Chara!! Doki</td>\n",
       "      <td>しゅごキャラ！！どきっ</td>\n",
       "      <td>Shugo Chara Ninenme, Shugo Chara! Second Year</td>\n",
       "      <td>https://myanimelist.cdn-dena.com/images/anime/...</td>\n",
       "      <td>TV</td>\n",
       "      <td>Manga</td>\n",
       "      <td>51</td>\n",
       "      <td>Finished Airing</td>\n",
       "      <td>...</td>\n",
       "      <td>Unknown</td>\n",
       "      <td>{'Adaptation': [{'mal_id': 101, 'type': 'manga...</td>\n",
       "      <td>TV Tokyo, Sotsu</td>\n",
       "      <td>NaN</td>\n",
       "      <td>Satelight</td>\n",
       "      <td>Comedy, Magic, School, Shoujo</td>\n",
       "      <td>['#1: \"Minna no Tamago (みんなのたまご)\" by Shugo Cha...</td>\n",
       "      <td>['#1: \"Rottara Rottara (ロッタラ ロッタラ)\" by Buono! ...</td>\n",
       "      <td>24.0</td>\n",
       "      <td>2008</td>\n",
       "    </tr>\n",
       "    <tr>\n",
       "      <th>3</th>\n",
       "      <td>721</td>\n",
       "      <td>Princess Tutu</td>\n",
       "      <td>Princess Tutu</td>\n",
       "      <td>プリンセスチュチュ</td>\n",
       "      <td>NaN</td>\n",
       "      <td>https://myanimelist.cdn-dena.com/images/anime/...</td>\n",
       "      <td>TV</td>\n",
       "      <td>Original</td>\n",
       "      <td>38</td>\n",
       "      <td>Finished Airing</td>\n",
       "      <td>...</td>\n",
       "      <td>Fridays at Unknown</td>\n",
       "      <td>{'Adaptation': [{'mal_id': 1581, 'type': 'mang...</td>\n",
       "      <td>Memory-Tech, GANSIS, Marvelous AQL</td>\n",
       "      <td>ADV Films</td>\n",
       "      <td>Hal Film Maker</td>\n",
       "      <td>Comedy, Drama, Magic, Romance, Fantasy</td>\n",
       "      <td>['\"Morning Grace\" by Ritsuko Okazaki']</td>\n",
       "      <td>['\"Watashi No Ai Wa Chiisaikeredo\" by Ritsuko ...</td>\n",
       "      <td>16.0</td>\n",
       "      <td>2002</td>\n",
       "    </tr>\n",
       "    <tr>\n",
       "      <th>4</th>\n",
       "      <td>12365</td>\n",
       "      <td>Bakuman. 3rd Season</td>\n",
       "      <td>Bakuman.</td>\n",
       "      <td>バクマン。</td>\n",
       "      <td>Bakuman Season 3</td>\n",
       "      <td>https://myanimelist.cdn-dena.com/images/anime/...</td>\n",
       "      <td>TV</td>\n",
       "      <td>Manga</td>\n",
       "      <td>25</td>\n",
       "      <td>Finished Airing</td>\n",
       "      <td>...</td>\n",
       "      <td>Unknown</td>\n",
       "      <td>{'Adaptation': [{'mal_id': 9711, 'type': 'mang...</td>\n",
       "      <td>NHK, Shueisha</td>\n",
       "      <td>NaN</td>\n",
       "      <td>J.C.Staff</td>\n",
       "      <td>Comedy, Drama, Romance, Shounen</td>\n",
       "      <td>['#1: \"Moshimo no Hanashi (もしもの話)\" by nano.RIP...</td>\n",
       "      <td>['#1: \"Pride on Everyday\" by Sphere (eps 1-13)...</td>\n",
       "      <td>24.0</td>\n",
       "      <td>2012</td>\n",
       "    </tr>\n",
       "  </tbody>\n",
       "</table>\n",
       "<p>5 rows × 33 columns</p>\n",
       "</div>"
      ],
      "text/plain": [
       "   anime_id                title              title_english title_japanese  \\\n",
       "0     11013        Inu x Boku SS  Inu X Boku Secret Service         妖狐×僕SS   \n",
       "1      2104     Seto no Hanayome      My Bride is a Mermaid          瀬戸の花嫁   \n",
       "2      5262   Shugo Chara!! Doki         Shugo Chara!! Doki    しゅごキャラ！！どきっ   \n",
       "3       721        Princess Tutu              Princess Tutu      プリンセスチュチュ   \n",
       "4     12365  Bakuman. 3rd Season                   Bakuman.          バクマン。   \n",
       "\n",
       "                                  title_synonyms  \\\n",
       "0                                Youko x Boku SS   \n",
       "1                           The Inland Sea Bride   \n",
       "2  Shugo Chara Ninenme, Shugo Chara! Second Year   \n",
       "3                                            NaN   \n",
       "4                               Bakuman Season 3   \n",
       "\n",
       "                                           image_url type    source  episodes  \\\n",
       "0  https://myanimelist.cdn-dena.com/images/anime/...   TV     Manga        12   \n",
       "1  https://myanimelist.cdn-dena.com/images/anime/...   TV     Manga        26   \n",
       "2  https://myanimelist.cdn-dena.com/images/anime/...   TV     Manga        51   \n",
       "3  https://myanimelist.cdn-dena.com/images/anime/...   TV  Original        38   \n",
       "4  https://myanimelist.cdn-dena.com/images/anime/...   TV     Manga        25   \n",
       "\n",
       "            status  ...           broadcast  \\\n",
       "0  Finished Airing  ...  Fridays at Unknown   \n",
       "1  Finished Airing  ...             Unknown   \n",
       "2  Finished Airing  ...             Unknown   \n",
       "3  Finished Airing  ...  Fridays at Unknown   \n",
       "4  Finished Airing  ...             Unknown   \n",
       "\n",
       "                                             related  \\\n",
       "0  {'Adaptation': [{'mal_id': 17207, 'type': 'man...   \n",
       "1  {'Adaptation': [{'mal_id': 759, 'type': 'manga...   \n",
       "2  {'Adaptation': [{'mal_id': 101, 'type': 'manga...   \n",
       "3  {'Adaptation': [{'mal_id': 1581, 'type': 'mang...   \n",
       "4  {'Adaptation': [{'mal_id': 9711, 'type': 'mang...   \n",
       "\n",
       "                                            producer          licensor  \\\n",
       "0  Aniplex, Square Enix, Mainichi Broadcasting Sy...  Sentai Filmworks   \n",
       "1                  TV Tokyo, AIC, Square Enix, Sotsu        Funimation   \n",
       "2                                    TV Tokyo, Sotsu               NaN   \n",
       "3                 Memory-Tech, GANSIS, Marvelous AQL         ADV Films   \n",
       "4                                      NHK, Shueisha               NaN   \n",
       "\n",
       "             studio                                     genre  \\\n",
       "0  David Production    Comedy, Supernatural, Romance, Shounen   \n",
       "1             Gonzo  Comedy, Parody, Romance, School, Shounen   \n",
       "2         Satelight             Comedy, Magic, School, Shoujo   \n",
       "3    Hal Film Maker    Comedy, Drama, Magic, Romance, Fantasy   \n",
       "4         J.C.Staff           Comedy, Drama, Romance, Shounen   \n",
       "\n",
       "                                       opening_theme  \\\n",
       "0                              ['\"Nirvana\" by MUCC']   \n",
       "1                 ['\"Romantic summer\" by SUN&LUNAR']   \n",
       "2  ['#1: \"Minna no Tamago (みんなのたまご)\" by Shugo Cha...   \n",
       "3             ['\"Morning Grace\" by Ritsuko Okazaki']   \n",
       "4  ['#1: \"Moshimo no Hanashi (もしもの話)\" by nano.RIP...   \n",
       "\n",
       "                                        ending_theme  duration_min  \\\n",
       "0  ['#1: \"Nirvana\" by MUCC (eps 1, 11-12)', '#2: ...          24.0   \n",
       "1  ['#1: \"Ashita e no Hikari (明日への光)\" by Asuka Hi...          24.0   \n",
       "2  ['#1: \"Rottara Rottara (ロッタラ ロッタラ)\" by Buono! ...          24.0   \n",
       "3  ['\"Watashi No Ai Wa Chiisaikeredo\" by Ritsuko ...          16.0   \n",
       "4  ['#1: \"Pride on Everyday\" by Sphere (eps 1-13)...          24.0   \n",
       "\n",
       "   aired_from_year  \n",
       "0             2012  \n",
       "1             2007  \n",
       "2             2008  \n",
       "3             2002  \n",
       "4             2012  \n",
       "\n",
       "[5 rows x 33 columns]"
      ]
     },
     "execution_count": 3,
     "metadata": {},
     "output_type": "execute_result"
    }
   ],
   "source": [
    "anime.head()"
   ]
  },
  {
   "cell_type": "code",
   "execution_count": 4,
   "id": "5086b78c",
   "metadata": {},
   "outputs": [
    {
     "data": {
      "text/plain": [
       "array([7.63, 7.89, 7.55, 8.21, 8.67, 8.03, 7.26, 7.72, 8.24, 8.34, 8.15,\n",
       "       8.2 , 8.23, 7.71, 7.9 , 7.53, 8.13, 8.18, 7.85, 8.39, 8.49, 7.77,\n",
       "       8.47, 7.68, 8.29, 7.7 , 8.02, 7.87, 8.33, 7.1 , 7.73, 8.04, 8.54,\n",
       "       7.64, 8.16, 6.3 , 7.92, 8.32, 8.41, 8.14, 7.78, 8.12, 8.07, 6.49,\n",
       "       7.99, 7.4 , 6.04, 3.44, 7.14, 6.15, 7.35, 7.42, 4.32, 5.91, 8.01,\n",
       "       6.86, 6.41, 5.73, 5.2 , 6.65, 5.92, 5.63, 6.54, 6.95, 6.93, 7.13,\n",
       "       7.47, 7.57, 6.03, 5.81, 7.88, 7.5 , 6.47, 7.17, 7.69, 8.85, 6.06,\n",
       "       7.27, 6.66, 7.36, 6.28, 6.05, 7.94, 7.12, 5.97, 7.2 , 6.84, 7.01,\n",
       "       6.82, 7.56, 6.78, 6.57, 7.  , 5.43, 8.08, 5.09, 6.85, 7.18, 5.66,\n",
       "       5.62, 6.87, 5.72, 6.72, 7.04, 5.58, 6.9 , 6.71, 7.96, 7.37, 6.91,\n",
       "       7.05, 7.61, 6.51, 6.36, 5.  , 6.07, 5.7 , 6.97, 5.36, 7.22, 6.09,\n",
       "       5.55, 5.75, 7.51, 7.98, 7.33, 5.95, 6.88, 7.49, 7.03, 7.84, 7.34,\n",
       "       7.3 , 7.93, 4.85, 7.82, 6.01, 6.02, 5.13, 6.08, 4.42, 5.8 , 6.68,\n",
       "       8.09, 7.29, 4.54, 7.16, 8.87, 7.25, 7.48, 5.26, 5.77, 6.75, 6.43,\n",
       "       7.45, 6.81, 6.8 , 9.11, 6.35, 8.64, 8.11, 6.52, 7.11, 7.38, 7.91,\n",
       "       6.83, 6.56, 6.48, 6.69, 7.86, 7.66, 6.89, 5.47, 6.14, 6.16, 6.73,\n",
       "       5.5 , 7.09, 6.37, 6.7 , 5.32, 6.99, 6.74, 7.21, 7.43, 8.26, 5.35,\n",
       "       6.33, 6.64, 7.39, 6.32, 4.55, 4.64, 7.08, 6.18, 6.77, 5.89, 8.  ,\n",
       "       6.24, 6.5 , 6.38, 5.64, 8.17, 8.31, 4.4 , 5.69, 8.38, 3.77, 8.46,\n",
       "       8.51, 6.23, 7.23, 5.54, 6.1 , 8.45, 8.56, 6.11, 7.8 , 7.75, 7.24,\n",
       "       5.59, 8.3 , 6.19, 8.55, 4.41, 6.94, 7.83, 5.86, 8.06, 7.31, 7.74,\n",
       "       7.41, 6.67, 7.28, 5.88, 6.59, 5.94, 6.58, 6.25, 5.49, 5.68, 7.67,\n",
       "       4.75, 6.61, 4.78, 4.58, 5.46, 3.88, 7.54, 5.61, 4.77, 4.16, 7.52,\n",
       "       7.44, 5.93, 6.98, 5.29, 6.55, 5.44, 5.24, 6.12, 6.76, 7.59, 4.89,\n",
       "       8.22, 5.83, 8.43, 7.46, 7.32, 4.  , 6.42, 7.81, 6.2 , 7.62, 5.45,\n",
       "       7.19, 9.19, 6.4 , 6.96, 5.57, 6.31, 7.6 , 6.26, 6.92, 8.5 , 6.6 ,\n",
       "       8.73, 7.06, 7.02, 8.52, 8.63, 5.82, 5.08, 5.04, 7.07, 7.76, 3.81,\n",
       "       6.27, 9.15, 7.65, 6.  , 5.87, 9.1 , 6.45, 6.34, 4.83, 8.19, 8.65,\n",
       "       8.44, 5.48, 5.05, 3.51, 6.22, 5.42, 6.63, 5.65, 5.53, 6.62, 6.79,\n",
       "       6.29, 6.44, 5.1 , 5.31, 4.6 , 5.99, 3.4 , 5.41, 4.33, 6.21, 5.9 ,\n",
       "       7.15, 4.87, 6.46, 5.18, 5.06, 5.85, 6.39, 8.8 , 4.63, 4.25, 4.39,\n",
       "       5.38, 5.74, 8.36, 5.67, 7.58, 5.79, 5.6 , 6.17, 4.9 , 7.95, 4.97,\n",
       "       4.69, 7.79, 4.86, 9.25, 8.1 , 8.42, 8.05, 5.98, 9.01, 5.28, 4.62,\n",
       "       5.3 , 3.76, 8.77, 3.31, 5.78, 9.14, 5.11, 6.13, 5.52, 8.28, 8.4 ,\n",
       "       5.14, 5.76, 4.98, 3.92, 5.03, 4.93, 4.56, 5.51, 4.73, 8.35, 5.96,\n",
       "       5.25, 8.48, 5.4 , 4.61, 5.02, 3.91, 5.22, 2.61, 8.37, 8.66, 6.53,\n",
       "       4.04, 5.84, 8.83, 4.36, 3.67, 3.8 , 4.67, 5.33, 8.76, 4.53, 3.6 ,\n",
       "       5.07, 4.06, 5.34, 8.71, 8.27, 4.8 , 3.21, 4.28, 5.71, 4.95, 5.15,\n",
       "       2.89, 5.19, 8.53, 5.16, 4.2 , 8.91, 3.73, 3.85, 5.23, 4.82, 4.91,\n",
       "       5.27, 4.11, 8.58, 4.17, 4.65, 5.56, 9.07, 7.97, 4.22, 4.71, 3.93,\n",
       "       3.75, 4.1 , 4.08, 4.92, 4.79, 8.79, 8.6 , 4.3 , 8.99, 9.04, 9.02,\n",
       "       5.21, 4.5 , 8.59, 4.48, 8.92, 4.13, 4.88, 8.95, 4.23, 3.58, 8.69,\n",
       "       3.19, 4.81, 4.99, 8.25, 4.94, 3.9 , 2.33, 4.52, 3.71, 4.07, 8.62,\n",
       "       3.87, 3.82, 3.79, 8.81, 3.25, 4.14, 8.72, 4.05, 8.74, 3.69, 4.47,\n",
       "       4.29, 5.39, 8.57, 4.27, 5.01, 4.26, 5.37, 4.19, 4.31, 8.75, 4.76,\n",
       "       8.88, 3.46, 4.02, 5.17, 3.35, 3.54, 2.71, 4.51, 4.45, 2.86, 1.  ,\n",
       "       0.  , 9.52, 4.57])"
      ]
     },
     "execution_count": 4,
     "metadata": {},
     "output_type": "execute_result"
    }
   ],
   "source": [
    "anime.score.unique()"
   ]
  },
  {
   "cell_type": "markdown",
   "id": "614d0054",
   "metadata": {},
   "source": [
    "## Analyzing if a Rating Score of 6.2 is Different from the Mean of this Dataset"
   ]
  },
  {
   "cell_type": "markdown",
   "id": "25008012",
   "metadata": {},
   "source": [
    "### Testing if Normally Distributed"
   ]
  },
  {
   "cell_type": "code",
   "execution_count": 5,
   "id": "0b86d750",
   "metadata": {},
   "outputs": [
    {
     "data": {
      "text/plain": [
       "<Axes: >"
      ]
     },
     "execution_count": 5,
     "metadata": {},
     "output_type": "execute_result"
    },
    {
     "data": {
      "image/png": "[encoded data removed]",
      "text/plain": [
       "<Figure size 640x480 with 1 Axes>"
      ]
     },
     "metadata": {},
     "output_type": "display_data"
    }
   ],
   "source": [
    "anime['score'].hist()"
   ]
  },
  {
   "cell_type": "markdown",
   "id": "3e4829e3",
   "metadata": {},
   "source": [
    "#### Close enough to being normally distributed (and we didn't cover that in Lesson 1)"
   ]
  },
  {
   "cell_type": "markdown",
   "id": "372cd23a",
   "metadata": {},
   "source": [
    "## Run the Analysis"
   ]
  },
  {
   "cell_type": "code",
   "execution_count": 6,
   "id": "44b11ce9",
   "metadata": {},
   "outputs": [
    {
     "data": {
      "text/plain": [
       "TtestResult(statistic=57.14153988539698, pvalue=0.0, df=6667)"
      ]
     },
     "execution_count": 6,
     "metadata": {},
     "output_type": "execute_result"
    }
   ],
   "source": [
    "stats.ttest_1samp(anime['score'], 6.2)"
   ]
  },
  {
   "cell_type": "markdown",
   "id": "9088efbd",
   "metadata": {},
   "source": [
    "##### There is a significant difference between the actual mean and 6.2. "
   ]
  },
  {
   "cell_type": "code",
   "execution_count": 7,
   "id": "9c1e96b0",
   "metadata": {},
   "outputs": [
    {
     "data": {
      "text/plain": [
       "6.848998200359928"
      ]
     },
     "execution_count": 7,
     "metadata": {},
     "output_type": "execute_result"
    }
   ],
   "source": [
    "anime.score.mean()"
   ]
  },
  {
   "cell_type": "markdown",
   "id": "5472b955",
   "metadata": {},
   "source": [
    "##### 6.849 is higher than the assumed mean of 6.2, which is statistically significant. Actually significant???"
   ]
  },
  {
   "cell_type": "markdown",
   "id": "63667f1a",
   "metadata": {},
   "source": [
    "## Does Anime that is Still Airing Differ in Popularity from Anime that is No Longer Airing?"
   ]
  },
  {
   "cell_type": "code",
   "execution_count": 8,
   "id": "3f9273c0",
   "metadata": {},
   "outputs": [
    {
     "data": {
      "text/plain": [
       "array(['Finished Airing', 'Currently Airing'], dtype=object)"
      ]
     },
     "execution_count": 8,
     "metadata": {},
     "output_type": "execute_result"
    }
   ],
   "source": [
    "anime.status.unique()\n"
   ]
  },
  {
   "cell_type": "code",
   "execution_count": 9,
   "id": "9340f7fd",
   "metadata": {},
   "outputs": [
    {
     "data": {
      "text/plain": [
       "<Axes: >"
      ]
     },
     "execution_count": 9,
     "metadata": {},
     "output_type": "execute_result"
    },
    {
     "data": {
      "image/png": "[encoded data removed]",
      "text/plain": [
       "<Figure size 640x480 with 1 Axes>"
      ]
     },
     "metadata": {},
     "output_type": "display_data"
    }
   ],
   "source": [
    "anime.popularity[anime.status =='Finished Airing'].hist()"
   ]
  },
  {
   "cell_type": "code",
   "execution_count": 10,
   "id": "d52f0271",
   "metadata": {},
   "outputs": [
    {
     "data": {
      "text/plain": [
       "<Axes: >"
      ]
     },
     "execution_count": 10,
     "metadata": {},
     "output_type": "execute_result"
    },
    {
     "data": {
      "image/png": "[encoded data removed]",
      "text/plain": [
       "<Figure size 640x480 with 1 Axes>"
      ]
     },
     "metadata": {},
     "output_type": "display_data"
    }
   ],
   "source": [
    "anime.popularity[anime.status =='Currently Airing'].hist()"
   ]
  },
  {
   "cell_type": "markdown",
   "id": "924ea536",
   "metadata": {},
   "source": [
    "### Neither of these are normal, as per usual, but that is not this lesson. Moving on... "
   ]
  },
  {
   "cell_type": "markdown",
   "id": "de08f25c",
   "metadata": {},
   "source": [
    "## Run the Analysis"
   ]
  },
  {
   "cell_type": "code",
   "execution_count": 11,
   "id": "b5655702",
   "metadata": {},
   "outputs": [
    {
     "data": {
      "text/plain": [
       "Ttest_indResult(statistic=-6.489071311277514, pvalue=9.256789141747445e-11)"
      ]
     },
     "execution_count": 11,
     "metadata": {},
     "output_type": "execute_result"
    }
   ],
   "source": [
    "ttest_ind(anime.popularity[anime.status =='Finished Airing'], anime.popularity[anime.status =='Currently Airing'])"
   ]
  },
  {
   "cell_type": "markdown",
   "id": "eff1d95b",
   "metadata": {},
   "source": [
    "#### Yes, they differ in popularity. How different?"
   ]
  },
  {
   "cell_type": "code",
   "execution_count": 12,
   "id": "b019bccb",
   "metadata": {},
   "outputs": [
    {
     "data": {
      "text/plain": [
       "status\n",
       "Currently Airing    6108.131148\n",
       "Finished Airing     4433.558057\n",
       "Name: popularity, dtype: float64"
      ]
     },
     "execution_count": 12,
     "metadata": {},
     "output_type": "execute_result"
    }
   ],
   "source": [
    "anime.groupby('status')['popularity'].mean()"
   ]
  },
  {
   "cell_type": "markdown",
   "id": "0ae1cd4d",
   "metadata": {},
   "source": [
    "#### That's almost a 2000 point difference between the two. "
   ]
  },
  {
   "cell_type": "markdown",
   "id": "f362ec5f",
   "metadata": {},
   "source": [
    "## Does the Source of the Anime Influence the Type of Anime?"
   ]
  },
  {
   "cell_type": "code",
   "execution_count": null,
   "id": "f7584e01",
   "metadata": {},
   "outputs": [],
   "source": [
    "#checking for recoding"
   ]
  },
  {
   "cell_type": "code",
   "execution_count": 13,
   "id": "58ae34e2",
   "metadata": {},
   "outputs": [
    {
     "data": {
      "text/plain": [
       "array(['Manga', 'Original', 'Light novel', '4-koma manga', 'Novel',\n",
       "       'Visual novel', 'Other', 'Game', 'Picture book', 'Card game',\n",
       "       'Web manga', 'Book', 'Music', 'Radio', 'Digital manga'],\n",
       "      dtype=object)"
      ]
     },
     "execution_count": 13,
     "metadata": {},
     "output_type": "execute_result"
    }
   ],
   "source": [
    "anime.source.unique()"
   ]
  },
  {
   "cell_type": "code",
   "execution_count": 14,
   "id": "982568ea",
   "metadata": {},
   "outputs": [
    {
     "data": {
      "text/plain": [
       "Manga            2493\n",
       "Original         1789\n",
       "Light novel       512\n",
       "Visual novel      482\n",
       "Game              424\n",
       "Novel             282\n",
       "4-koma manga      194\n",
       "Other             170\n",
       "Web manga         111\n",
       "Music              55\n",
       "Picture book       53\n",
       "Card game          46\n",
       "Book               45\n",
       "Digital manga       7\n",
       "Radio               5\n",
       "Name: source, dtype: int64"
      ]
     },
     "execution_count": 14,
     "metadata": {},
     "output_type": "execute_result"
    }
   ],
   "source": [
    "anime.source.value_counts()\n"
   ]
  },
  {
   "cell_type": "code",
   "execution_count": 23,
   "id": "138d7d27",
   "metadata": {},
   "outputs": [],
   "source": [
    "#Recoding for only having 4 types (list based on research)"
   ]
  },
  {
   "cell_type": "code",
   "execution_count": 24,
   "id": "55573049",
   "metadata": {},
   "outputs": [],
   "source": [
    "def Rsource(series):\n",
    "    if series == 'Original':\n",
    "        return 'Manga'\n",
    "    elif series == '4-koma manga':\n",
    "        return 'Manga'\n",
    "    elif series == 'Other':\n",
    "        return 'Manga'\n",
    "    elif series == 'Picture book':\n",
    "        return 'Manga'\n",
    "    elif series == 'Digital manga':\n",
    "        return 'Manga'\n",
    "    elif series == 'Web manga':\n",
    "        return 'Manga'\n",
    "    elif series == 'Light novel':\n",
    "        return 'Book'\n",
    "    elif series == 'Novel':\n",
    "        return 'Book'\n",
    "    elif series == 'Visual novel':\n",
    "        return 'Book'\n",
    "    elif series == 'Card game':\n",
    "        return 'Game'\n",
    "    elif series == 'Music':\n",
    "        return 'Listening'\n",
    "    elif series == 'Radio':\n",
    "        return 'Listening'\n",
    "    else: \n",
    "        return series"
   ]
  },
  {
   "cell_type": "code",
   "execution_count": 20,
   "id": "d255c0a4",
   "metadata": {},
   "outputs": [],
   "source": [
    "anime['source'] = anime['source'].apply(Rsource)"
   ]
  },
  {
   "cell_type": "code",
   "execution_count": 21,
   "id": "a0ecba79",
   "metadata": {},
   "outputs": [
    {
     "data": {
      "text/plain": [
       "Manga        4817\n",
       "Book         1321\n",
       "Game          470\n",
       "Listening      60\n",
       "Name: source, dtype: int64"
      ]
     },
     "execution_count": 21,
     "metadata": {},
     "output_type": "execute_result"
    }
   ],
   "source": [
    "anime.source.value_counts()"
   ]
  },
  {
   "cell_type": "code",
   "execution_count": 22,
   "id": "cf98b7df",
   "metadata": {},
   "outputs": [
    {
     "data": {
      "text/plain": [
       "array(['Manga', 'Book', 'Game', 'Listening'], dtype=object)"
      ]
     },
     "execution_count": 22,
     "metadata": {},
     "output_type": "execute_result"
    }
   ],
   "source": [
    "anime.source.unique()"
   ]
  },
  {
   "cell_type": "code",
   "execution_count": 25,
   "id": "a5eb7152",
   "metadata": {},
   "outputs": [],
   "source": [
    "#Now that it's recoded with only 4 categories, we can now answer the question \"Does the source influence the type?\""
   ]
  },
  {
   "cell_type": "code",
   "execution_count": 26,
   "id": "fe48a546",
   "metadata": {},
   "outputs": [],
   "source": [
    "crosstab = pd.crosstab(anime['source'], anime['type'])"
   ]
  },
  {
   "cell_type": "code",
   "execution_count": 27,
   "id": "71380cb4",
   "metadata": {},
   "outputs": [
    {
     "data": {
      "text/html": [
       "<div>\n",
       "<style scoped>\n",
       "    .dataframe tbody tr th:only-of-type {\n",
       "        vertical-align: middle;\n",
       "    }\n",
       "\n",
       "    .dataframe tbody tr th {\n",
       "        vertical-align: top;\n",
       "    }\n",
       "\n",
       "    .dataframe thead th {\n",
       "        text-align: right;\n",
       "    }\n",
       "</style>\n",
       "<table border=\"1\" class=\"dataframe\">\n",
       "  <thead>\n",
       "    <tr style=\"text-align: right;\">\n",
       "      <th>type</th>\n",
       "      <th>Movie</th>\n",
       "      <th>Music</th>\n",
       "      <th>ONA</th>\n",
       "      <th>OVA</th>\n",
       "      <th>Special</th>\n",
       "      <th>TV</th>\n",
       "    </tr>\n",
       "    <tr>\n",
       "      <th>source</th>\n",
       "      <th></th>\n",
       "      <th></th>\n",
       "      <th></th>\n",
       "      <th></th>\n",
       "      <th></th>\n",
       "      <th></th>\n",
       "    </tr>\n",
       "  </thead>\n",
       "  <tbody>\n",
       "    <tr>\n",
       "      <th>Book</th>\n",
       "      <td>151</td>\n",
       "      <td>1</td>\n",
       "      <td>57</td>\n",
       "      <td>388</td>\n",
       "      <td>172</td>\n",
       "      <td>552</td>\n",
       "    </tr>\n",
       "    <tr>\n",
       "      <th>Game</th>\n",
       "      <td>83</td>\n",
       "      <td>9</td>\n",
       "      <td>39</td>\n",
       "      <td>57</td>\n",
       "      <td>72</td>\n",
       "      <td>210</td>\n",
       "    </tr>\n",
       "    <tr>\n",
       "      <th>Listening</th>\n",
       "      <td>2</td>\n",
       "      <td>42</td>\n",
       "      <td>0</td>\n",
       "      <td>1</td>\n",
       "      <td>1</td>\n",
       "      <td>14</td>\n",
       "    </tr>\n",
       "    <tr>\n",
       "      <th>Manga</th>\n",
       "      <td>672</td>\n",
       "      <td>46</td>\n",
       "      <td>312</td>\n",
       "      <td>899</td>\n",
       "      <td>684</td>\n",
       "      <td>2204</td>\n",
       "    </tr>\n",
       "  </tbody>\n",
       "</table>\n",
       "</div>"
      ],
      "text/plain": [
       "type       Movie  Music  ONA  OVA  Special    TV\n",
       "source                                          \n",
       "Book         151      1   57  388      172   552\n",
       "Game          83      9   39   57       72   210\n",
       "Listening      2     42    0    1        1    14\n",
       "Manga        672     46  312  899      684  2204"
      ]
     },
     "execution_count": 27,
     "metadata": {},
     "output_type": "execute_result"
    }
   ],
   "source": [
    "crosstab"
   ]
  },
  {
   "cell_type": "code",
   "execution_count": 28,
   "id": "9df7232a",
   "metadata": {},
   "outputs": [
    {
     "data": {
      "text/plain": [
       "Chi2ContingencyResult(statistic=2078.881045375597, pvalue=0.0, dof=15, expected_freq=array([[1.79884223e+02, 1.94148170e+01, 8.08290342e+01, 2.66458458e+02,\n",
       "        1.84044541e+02, 5.90368926e+02],\n",
       "       [6.40011998e+01, 6.90761848e+00, 2.87582484e+01, 9.48035393e+01,\n",
       "        6.54814037e+01, 2.10047990e+02],\n",
       "       [8.17036593e+00, 8.81823635e-01, 3.67126575e+00, 1.21025795e+01,\n",
       "        8.35932813e+00, 2.68146371e+01],\n",
       "       [6.55944211e+02, 7.07957409e+01, 2.94741452e+02, 9.71635423e+02,\n",
       "        6.71114727e+02, 2.15276845e+03]]))"
      ]
     },
     "execution_count": 28,
     "metadata": {},
     "output_type": "execute_result"
    }
   ],
   "source": [
    "stats.chi2_contingency(crosstab)"
   ]
  },
  {
   "cell_type": "code",
   "execution_count": 29,
   "id": "6a54a997",
   "metadata": {},
   "outputs": [],
   "source": [
    "#There is an influence of the source on type, however it does not meet the assumption of 5 cases per cell (which we ignore for now)\n"
   ]
  },
  {
   "cell_type": "markdown",
   "id": "0a5b6694",
   "metadata": {},
   "source": [
    "## How do the Variables about Popularity / Ranking Relate to Each Other?"
   ]
  },
  {
   "cell_type": "code",
   "execution_count": 31,
   "id": "c2cb5d37",
   "metadata": {},
   "outputs": [],
   "source": [
    "#I think it's easier just to see the heatmap in the first place. "
   ]
  },
  {
   "cell_type": "code",
   "execution_count": 32,
   "id": "b296ff5c",
   "metadata": {},
   "outputs": [
    {
     "name": "stderr",
     "output_type": "stream",
     "text": [
      "/var/folders/t5/4lqy4g_n1z14zq1k52ld2cx00000gn/T/ipykernel_64530/2390596655.py:1: FutureWarning: The default value of numeric_only in DataFrame.corr is deprecated. In a future version, it will default to False. Select only valid columns or specify the value of numeric_only to silence this warning.\n",
      "  sns.heatmap(anime.corr(), annot=True)\n"
     ]
    },
    {
     "data": {
      "text/plain": [
       "<Axes: >"
      ]
     },
     "execution_count": 32,
     "metadata": {},
     "output_type": "execute_result"
    },
    {
     "data": {
      "image/png": "[encoded data removed]",
      "text/plain": [
       "<Figure size 640x480 with 2 Axes>"
      ]
     },
     "metadata": {},
     "output_type": "display_data"
    }
   ],
   "source": [
    "sns.heatmap(anime.corr(), annot=True)"
   ]
  },
  {
   "cell_type": "code",
   "execution_count": 35,
   "id": "a6a86fc9",
   "metadata": {},
   "outputs": [],
   "source": [
    "#From this heatmap, I see that Rank and Score have a strong negative correlation of -.9\n",
    "#Popularity and Rank have a moderate positive correlation of .78\n",
    "#Members and Scored_by have a strong positive correlation of .99\n",
    "#Popularity and Score have a weak to moderate negative correlation of -.69\n",
    "#Members and Favorites have a moderate poositive correlation of .79"
   ]
  },
  {
   "cell_type": "code",
   "execution_count": 36,
   "id": "7acd68b4",
   "metadata": {},
   "outputs": [
    {
     "data": {
      "text/plain": [
       "-0.89874685889926"
      ]
     },
     "execution_count": 36,
     "metadata": {},
     "output_type": "execute_result"
    }
   ],
   "source": [
    "anime['rank'].corr(anime['score'])"
   ]
  },
  {
   "cell_type": "code",
   "execution_count": 37,
   "id": "085c4fb0",
   "metadata": {},
   "outputs": [
    {
     "data": {
      "text/plain": [
       "0.7773024303272644"
      ]
     },
     "execution_count": 37,
     "metadata": {},
     "output_type": "execute_result"
    }
   ],
   "source": [
    "anime['rank'].corr(anime['popularity'])"
   ]
  },
  {
   "cell_type": "code",
   "execution_count": 39,
   "id": "274dca55",
   "metadata": {},
   "outputs": [
    {
     "data": {
      "text/plain": [
       "0.9871065651785598"
      ]
     },
     "execution_count": 39,
     "metadata": {},
     "output_type": "execute_result"
    }
   ],
   "source": [
    "anime['members'].corr(anime['scored_by'])"
   ]
  },
  {
   "cell_type": "code",
   "execution_count": 38,
   "id": "824179f9",
   "metadata": {},
   "outputs": [
    {
     "data": {
      "text/plain": [
       "-0.6884918226602826"
      ]
     },
     "execution_count": 38,
     "metadata": {},
     "output_type": "execute_result"
    }
   ],
   "source": [
    "anime['popularity'].corr(anime['score'])"
   ]
  },
  {
   "cell_type": "code",
   "execution_count": 40,
   "id": "0f674ac1",
   "metadata": {},
   "outputs": [
    {
     "data": {
      "text/plain": [
       "0.7815649735370248"
      ]
     },
     "execution_count": 40,
     "metadata": {},
     "output_type": "execute_result"
    }
   ],
   "source": [
    "anime['members'].corr(anime['favorites'])"
   ]
  },
  {
   "cell_type": "code",
   "execution_count": null,
   "id": "e56ff4fa",
   "metadata": {},
   "outputs": [],
   "source": []
  }
 ],
 "metadata": {
  "kernelspec": {
   "display_name": "Python 3 (ipykernel)",
   "language": "python",
   "name": "python3"
  },
  "language_info": {
   "codemirror_mode": {
    "name": "ipython",
    "version": 3
   },
   "file_extension": ".py",
   "mimetype": "text/x-python",
   "name": "python",
   "nbconvert_exporter": "python",
   "pygments_lexer": "ipython3",
   "version": "3.10.9"
  }
 },
 "nbformat": 4,
 "nbformat_minor": 5
}
